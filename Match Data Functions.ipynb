{
 "cells": [
  {
   "cell_type": "code",
   "execution_count": 4,
   "id": "7a291e4b-1b4d-4c22-a092-d8814663c9fd",
   "metadata": {},
   "outputs": [],
   "source": [
    "import sys\n",
    "import time\n",
    "import json\n",
    "\n",
    "from riotwatcher import LolWatcher, ApiError\n",
    "import psycopg2\n",
    "\n",
    "import match_fetcher\n",
    "\n",
    "lol_watcher = LolWatcher('RGAPI-852cfdd4-e3af-40b0-b66d-d9ef1ca44c43')"
   ]
  },
  {
   "cell_type": "code",
   "execution_count": 6,
   "id": "e12d0730-17c7-467b-a91c-f8ee1f23b8c5",
   "metadata": {},
   "outputs": [],
   "source": [
    "my_region = 'na1'\n",
    "region = 'na1'\n",
    "account_id = lol_watcher.summoner.by_name(my_region, 'Corporate ShiIl')['puuid']\n",
    "game_id = lol_watcher.match.matchlist_by_puuid('na1', account_id)[1]"
   ]
  },
  {
   "cell_type": "code",
   "execution_count": 15,
   "id": "42310ed3-5cf2-470c-9fb8-3c6841db9cef",
   "metadata": {},
   "outputs": [],
   "source": [
    "import time\n",
    "\n",
    "from riotwatcher import ApiError\n",
    "\n",
    "\n",
    "def collect_match_data(region, account_id, game_id, lol_watcher):\n",
    "    match_json = get_match_json(region, game_id, lol_watcher)\n",
    "\n",
    "    # dictionary to hold all the data values of interest from the MatchDto\n",
    "    data = {}\n",
    "\n",
    "    data.update({'duration': match_json['info']['gameDuration']})\n",
    "\n",
    "    # rest of the stats are found in the participants section\n",
    "    participant_id = get_participant_id(match_json, account_id)\n",
    "    # this shouldn't ever run but a -1 represents that the summoner was not in the match\n",
    "    if participant_id == -1:\n",
    "        print(game_id)\n",
    "        return None\n",
    "\n",
    "    # riot orders participants in the section 1-10, so can be indexed by subtracting one from the id\n",
    "    participant_json = match_json['participants'][participant_id - 1]\n",
    "    stats = participant_json['stats']\n",
    "\n",
    "    data.update({\n",
    "        'champion': participant_json['championId'],\n",
    "        'win': stats['win'],\n",
    "        'kills': stats['kills'],\n",
    "        'deaths': stats['deaths'],\n",
    "        'assists': stats['assists'],\n",
    "        'gold_earned': stats['goldEarned'],\n",
    "        'champion_damage': stats['totalDamageDealtToChampions'],\n",
    "        'objective_damage': stats['damageDealtToObjectives'],\n",
    "        'damage_healed': stats['totalHeal'],\n",
    "        'vision_score': stats['visionScore'],\n",
    "        'minions_killed': stats['totalMinionsKilled'],\n",
    "        'neutral_monsters_killed': stats['neutralMinionsKilled'],\n",
    "        'control_wards_purchased': stats['visionWardsBoughtInGame']\n",
    "    })\n",
    "\n",
    "    return data\n",
    "\n",
    "\n",
    "# parses the participant ID based on the given summoner name\n",
    "def get_participant_id(match_json, account_id):\n",
    "    participants = match_json['participantIdentities']\n",
    "    for summoner in participants:\n",
    "        if summoner['player']['accountId'] == account_id:\n",
    "            return summoner['participantId']\n",
    "\n",
    "    return -1\n",
    "\n",
    "\n",
    "def get_match_json(region, game_id, lol_watcher):\n",
    "    try:\n",
    "        return lol_watcher.match.by_id(region, game_id)\n",
    "    except ApiError as err:\n",
    "        if err.response.status_code == 429:\n",
    "            print('We should retry in {} seconds.'.format(err.headers['Retry-After']))\n",
    "        elif err.response.status_code == 404:\n",
    "            print('Match not found for game ID: {}'.format(game_id))\n",
    "        elif err.response.status_code == 504 or err.response.status_code == 503:\n",
    "            # 504 happens randomly, wait a couple seconds then try again\n",
    "            time.sleep(2)\n",
    "            return get_match_json(region, game_id, lol_watcher)\n",
    "        else:\n",
    "            raise"
   ]
  },
  {
   "cell_type": "code",
   "execution_count": 11,
   "id": "91e921ce-8da7-461e-b58e-5edf2621502f",
   "metadata": {
    "tags": []
   },
   "outputs": [],
   "source": [
    "match_json = get_match_json(region, game_id, lol_watcher)"
   ]
  },
  {
   "cell_type": "code",
   "execution_count": 25,
   "id": "d78413aa-bc7b-46bd-ac01-e530ebc1ab8d",
   "metadata": {},
   "outputs": [
    {
     "data": {
      "text/plain": [
       "450"
      ]
     },
     "execution_count": 25,
     "metadata": {},
     "output_type": "execute_result"
    }
   ],
   "source": [
    "match_json['info']['queueId']"
   ]
  },
  {
   "cell_type": "code",
   "execution_count": 24,
   "id": "7b52fbbd-4e9c-4574-ac44-1d849a9336eb",
   "metadata": {
    "tags": []
   },
   "outputs": [
    {
     "data": {
      "text/plain": [
       "'YPC0GKVY_59IDtj-z2UQ6w-TQStrQm7tfeCrrxHckMtFhfI'"
      ]
     },
     "execution_count": 24,
     "metadata": {},
     "output_type": "execute_result"
    }
   ],
   "source": [
    "match_json['info']['participants'][1]['summonerId']"
   ]
  },
  {
   "cell_type": "code",
   "execution_count": 16,
   "id": "b8c43327-bf9f-4c1b-a962-5ca6b15eb6fe",
   "metadata": {},
   "outputs": [
    {
     "ename": "KeyError",
     "evalue": "'participantIdentities'",
     "output_type": "error",
     "traceback": [
      "\u001b[1;31m---------------------------------------------------------------------------\u001b[0m",
      "\u001b[1;31mKeyError\u001b[0m                                  Traceback (most recent call last)",
      "Input \u001b[1;32mIn [16]\u001b[0m, in \u001b[0;36m<cell line: 1>\u001b[1;34m()\u001b[0m\n\u001b[1;32m----> 1\u001b[0m \u001b[43mcollect_match_data\u001b[49m\u001b[43m(\u001b[49m\u001b[43mregion\u001b[49m\u001b[43m,\u001b[49m\u001b[43m \u001b[49m\u001b[43maccount_id\u001b[49m\u001b[43m,\u001b[49m\u001b[43m \u001b[49m\u001b[43mgame_id\u001b[49m\u001b[43m,\u001b[49m\u001b[43m \u001b[49m\u001b[43mlol_watcher\u001b[49m\u001b[43m)\u001b[49m\n",
      "Input \u001b[1;32mIn [15]\u001b[0m, in \u001b[0;36mcollect_match_data\u001b[1;34m(region, account_id, game_id, lol_watcher)\u001b[0m\n\u001b[0;32m     12\u001b[0m data\u001b[38;5;241m.\u001b[39mupdate({\u001b[38;5;124m'\u001b[39m\u001b[38;5;124mduration\u001b[39m\u001b[38;5;124m'\u001b[39m: response[\u001b[38;5;124m'\u001b[39m\u001b[38;5;124minfo\u001b[39m\u001b[38;5;124m'\u001b[39m][\u001b[38;5;124m'\u001b[39m\u001b[38;5;124mgameDuration\u001b[39m\u001b[38;5;124m'\u001b[39m]})\n\u001b[0;32m     14\u001b[0m \u001b[38;5;66;03m# rest of the stats are found in the participants section\u001b[39;00m\n\u001b[1;32m---> 15\u001b[0m participant_id \u001b[38;5;241m=\u001b[39m \u001b[43mget_participant_id\u001b[49m\u001b[43m(\u001b[49m\u001b[43mresponse\u001b[49m\u001b[43m,\u001b[49m\u001b[43m \u001b[49m\u001b[43maccount_id\u001b[49m\u001b[43m)\u001b[49m\n\u001b[0;32m     16\u001b[0m \u001b[38;5;66;03m# this shouldn't ever run but a -1 represents that the summoner was not in the match\u001b[39;00m\n\u001b[0;32m     17\u001b[0m \u001b[38;5;28;01mif\u001b[39;00m participant_id \u001b[38;5;241m==\u001b[39m \u001b[38;5;241m-\u001b[39m\u001b[38;5;241m1\u001b[39m:\n",
      "Input \u001b[1;32mIn [15]\u001b[0m, in \u001b[0;36mget_participant_id\u001b[1;34m(match_json, account_id)\u001b[0m\n\u001b[0;32m     45\u001b[0m \u001b[38;5;28;01mdef\u001b[39;00m \u001b[38;5;21mget_participant_id\u001b[39m(match_json, account_id):\n\u001b[1;32m---> 46\u001b[0m     participants \u001b[38;5;241m=\u001b[39m \u001b[43mmatch_json\u001b[49m\u001b[43m[\u001b[49m\u001b[38;5;124;43m'\u001b[39;49m\u001b[38;5;124;43mparticipantIdentities\u001b[39;49m\u001b[38;5;124;43m'\u001b[39;49m\u001b[43m]\u001b[49m\n\u001b[0;32m     47\u001b[0m     \u001b[38;5;28;01mfor\u001b[39;00m summoner \u001b[38;5;129;01min\u001b[39;00m participants:\n\u001b[0;32m     48\u001b[0m         \u001b[38;5;28;01mif\u001b[39;00m summoner[\u001b[38;5;124m'\u001b[39m\u001b[38;5;124mplayer\u001b[39m\u001b[38;5;124m'\u001b[39m][\u001b[38;5;124m'\u001b[39m\u001b[38;5;124maccountId\u001b[39m\u001b[38;5;124m'\u001b[39m] \u001b[38;5;241m==\u001b[39m account_id:\n",
      "\u001b[1;31mKeyError\u001b[0m: 'participantIdentities'"
     ]
    }
   ],
   "source": [
    "collect_match_data(region, account_id, game_id, lol_watcher)"
   ]
  },
  {
   "cell_type": "code",
   "execution_count": null,
   "id": "33bd5c8e-acd4-4d0e-a197-2b164a979128",
   "metadata": {},
   "outputs": [],
   "source": []
  },
  {
   "cell_type": "code",
   "execution_count": null,
   "id": "cb6691e0-9067-43f6-9504-ba9688142743",
   "metadata": {},
   "outputs": [],
   "source": []
  }
 ],
 "metadata": {
  "kernelspec": {
   "display_name": "Python 3 (ipykernel)",
   "language": "python",
   "name": "python3"
  },
  "language_info": {
   "codemirror_mode": {
    "name": "ipython",
    "version": 3
   },
   "file_extension": ".py",
   "mimetype": "text/x-python",
   "name": "python",
   "nbconvert_exporter": "python",
   "pygments_lexer": "ipython3",
   "version": "3.9.12"
  }
 },
 "nbformat": 4,
 "nbformat_minor": 5
}
