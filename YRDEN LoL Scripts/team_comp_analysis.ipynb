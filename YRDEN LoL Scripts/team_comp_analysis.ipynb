{
 "cells": [
  {
   "cell_type": "code",
   "execution_count": 2,
   "metadata": {},
   "outputs": [],
   "source": [
    "import polars as pl\n",
    "import constants\n",
    "import psycopg\n",
    "from riotwatcher import LolWatcher, ApiError, RiotWatcher\n",
    "\n",
    "# sys.stdout.reconfigure(encoding='utf-8')\n",
    "\n",
    "API_KEY = constants.API_KEY_SERVICE\n",
    "lol_watcher = LolWatcher(API_KEY)\n",
    "riot_watcher = RiotWatcher(API_KEY)\n",
    "lol_region = 'na1'\n",
    "\n",
    "db_pass = constants.db_password\n",
    "db_ip = constants.db_ip\n",
    "\n",
    "db_connection = f'dbname = yrden user=postgres password={db_pass} host={db_ip}'\n",
    "\n",
    "conn = psycopg.connect(db_connection)"
   ]
  },
  {
   "cell_type": "code",
   "execution_count": 7,
   "metadata": {},
   "outputs": [
    {
     "data": {
      "text/plain": [
       "(230, 59)"
      ]
     },
     "execution_count": 7,
     "metadata": {},
     "output_type": "execute_result"
    }
   ],
   "source": [
    "stats_query = '''SELECT * FROM \"yrden\".lol_game_data\n",
    "WHERE game_id in \n",
    "(select game_id\n",
    "from \"yrden\".lol_game_data\n",
    "where 1=1\n",
    "and queue_id in (440, 700)\n",
    "group by game_id\n",
    "having count(game_id) = 10)\n",
    "ORDER BY GAME_PATCH DESC, GAME_ID, TEAMID, CASE WHEN LANE = 'TOP' THEN 1 WHEN LANE = 'JUNGLE' THEN 2 WHEN LANE = 'MIDDLE' THEN 3 WHEN LANE = 'BOTTOM' THEN 4 ELSE 5 END\n",
    ";'''\n",
    "\n",
    "with conn.cursor() as cur:\n",
    "    cur.execute(stats_query)\n",
    "    col_names = [desc[0] for desc in cur.description]\n",
    "    rows = cur.fetchall()\n",
    "    df = pl.DataFrame(rows, schema=col_names, orient='row')\n",
    "\n",
    "df.shape"
   ]
  },
  {
   "cell_type": "code",
   "execution_count": 86,
   "metadata": {},
   "outputs": [],
   "source": [
    "yrden_df = df.filter(pl.col('riot_puuid').is_in(constants.yrden_lol_team_puuids))"
   ]
  },
  {
   "cell_type": "code",
   "execution_count": 87,
   "metadata": {},
   "outputs": [],
   "source": [
    "champ_df = yrden_df.select(pl.col('game_id'), pl.col('win'), pl.col('champion_id'), pl.col('riot_id'), pl.col('riot_puuid'))"
   ]
  },
  {
   "cell_type": "code",
   "execution_count": 88,
   "metadata": {},
   "outputs": [
    {
     "data": {
      "text/html": [
       "<div><style>\n",
       ".dataframe > thead > tr,\n",
       ".dataframe > tbody > tr {\n",
       "  text-align: right;\n",
       "  white-space: pre-wrap;\n",
       "}\n",
       "</style>\n",
       "<small>shape: (115, 5)</small><table border=\"1\" class=\"dataframe\"><thead><tr><th>game_id</th><th>win</th><th>champion_id</th><th>riot_id</th><th>riot_puuid</th></tr><tr><td>str</td><td>bool</td><td>i64</td><td>str</td><td>str</td></tr></thead><tbody><tr><td>&quot;NA1_5206375709&quot;</td><td>true</td><td>122</td><td>&quot;Hypocritus&quot;</td><td>&quot;Xhi01hd4YPU92OGkFKSsqEnTtVwTD_…</td></tr><tr><td>&quot;NA1_5206375709&quot;</td><td>true</td><td>72</td><td>&quot;Triggerman&quot;</td><td>&quot;0CpS1bKgKnH7IKuMVnpeOpyLFIj3J7…</td></tr><tr><td>&quot;NA1_5206375709&quot;</td><td>true</td><td>103</td><td>&quot;Blue&quot;</td><td>&quot;gw2MWsJzlQYIRr40fYEyB2RdJBixmb…</td></tr><tr><td>&quot;NA1_5206375709&quot;</td><td>true</td><td>202</td><td>&quot;YDN Rock Coaches&quot;</td><td>&quot;oFdCaHSdLE-umAd_AUTwskzbTOEPp-…</td></tr><tr><td>&quot;NA1_5206375709&quot;</td><td>true</td><td>143</td><td>&quot;wyzrdsnvrdie&quot;</td><td>&quot;nQd7Ylk472T9NtwuS-hhuLDcxoUg71…</td></tr><tr><td>&hellip;</td><td>&hellip;</td><td>&hellip;</td><td>&hellip;</td><td>&hellip;</td></tr><tr><td>&quot;NA1_5177097514&quot;</td><td>true</td><td>122</td><td>&quot;Hypocritus&quot;</td><td>&quot;Xhi01hd4YPU92OGkFKSsqEnTtVwTD_…</td></tr><tr><td>&quot;NA1_5177097514&quot;</td><td>true</td><td>113</td><td>&quot;Triggerman&quot;</td><td>&quot;0CpS1bKgKnH7IKuMVnpeOpyLFIj3J7…</td></tr><tr><td>&quot;NA1_5177097514&quot;</td><td>true</td><td>163</td><td>&quot;Blue&quot;</td><td>&quot;gw2MWsJzlQYIRr40fYEyB2RdJBixmb…</td></tr><tr><td>&quot;NA1_5177097514&quot;</td><td>true</td><td>222</td><td>&quot;YDN Rock Coaches&quot;</td><td>&quot;oFdCaHSdLE-umAd_AUTwskzbTOEPp-…</td></tr><tr><td>&quot;NA1_5177097514&quot;</td><td>true</td><td>111</td><td>&quot;wyzrdsnvrdie&quot;</td><td>&quot;nQd7Ylk472T9NtwuS-hhuLDcxoUg71…</td></tr></tbody></table></div>"
      ],
      "text/plain": [
       "shape: (115, 5)\n",
       "┌────────────────┬──────┬─────────────┬──────────────────┬─────────────────────────────────┐\n",
       "│ game_id        ┆ win  ┆ champion_id ┆ riot_id          ┆ riot_puuid                      │\n",
       "│ ---            ┆ ---  ┆ ---         ┆ ---              ┆ ---                             │\n",
       "│ str            ┆ bool ┆ i64         ┆ str              ┆ str                             │\n",
       "╞════════════════╪══════╪═════════════╪══════════════════╪═════════════════════════════════╡\n",
       "│ NA1_5206375709 ┆ true ┆ 122         ┆ Hypocritus       ┆ Xhi01hd4YPU92OGkFKSsqEnTtVwTD_… │\n",
       "│ NA1_5206375709 ┆ true ┆ 72          ┆ Triggerman       ┆ 0CpS1bKgKnH7IKuMVnpeOpyLFIj3J7… │\n",
       "│ NA1_5206375709 ┆ true ┆ 103         ┆ Blue             ┆ gw2MWsJzlQYIRr40fYEyB2RdJBixmb… │\n",
       "│ NA1_5206375709 ┆ true ┆ 202         ┆ YDN Rock Coaches ┆ oFdCaHSdLE-umAd_AUTwskzbTOEPp-… │\n",
       "│ NA1_5206375709 ┆ true ┆ 143         ┆ wyzrdsnvrdie     ┆ nQd7Ylk472T9NtwuS-hhuLDcxoUg71… │\n",
       "│ …              ┆ …    ┆ …           ┆ …                ┆ …                               │\n",
       "│ NA1_5177097514 ┆ true ┆ 122         ┆ Hypocritus       ┆ Xhi01hd4YPU92OGkFKSsqEnTtVwTD_… │\n",
       "│ NA1_5177097514 ┆ true ┆ 113         ┆ Triggerman       ┆ 0CpS1bKgKnH7IKuMVnpeOpyLFIj3J7… │\n",
       "│ NA1_5177097514 ┆ true ┆ 163         ┆ Blue             ┆ gw2MWsJzlQYIRr40fYEyB2RdJBixmb… │\n",
       "│ NA1_5177097514 ┆ true ┆ 222         ┆ YDN Rock Coaches ┆ oFdCaHSdLE-umAd_AUTwskzbTOEPp-… │\n",
       "│ NA1_5177097514 ┆ true ┆ 111         ┆ wyzrdsnvrdie     ┆ nQd7Ylk472T9NtwuS-hhuLDcxoUg71… │\n",
       "└────────────────┴──────┴─────────────┴──────────────────┴─────────────────────────────────┘"
      ]
     },
     "execution_count": 88,
     "metadata": {},
     "output_type": "execute_result"
    }
   ],
   "source": [
    "champ_df"
   ]
  },
  {
   "cell_type": "code",
   "execution_count": 153,
   "metadata": {},
   "outputs": [
    {
     "data": {
      "text/html": [
       "<div><style>\n",
       ".dataframe > thead > tr,\n",
       ".dataframe > tbody > tr {\n",
       "  text-align: right;\n",
       "  white-space: pre-wrap;\n",
       "}\n",
       "</style>\n",
       "<small>shape: (23, 3)</small><table border=\"1\" class=\"dataframe\"><thead><tr><th>game_id</th><th>win</th><th>champion_id_Hypocritus</th></tr><tr><td>str</td><td>bool</td><td>i64</td></tr></thead><tbody><tr><td>&quot;NA1_5206375709&quot;</td><td>true</td><td>255</td></tr><tr><td>&quot;NA1_5206412184&quot;</td><td>false</td><td>1023</td></tr><tr><td>&quot;NA1_5207643890&quot;</td><td>false</td><td>447</td></tr><tr><td>&quot;NA1_5207671213&quot;</td><td>false</td><td>1023</td></tr><tr><td>&quot;NA1_5205572005&quot;</td><td>false</td><td>127</td></tr><tr><td>&hellip;</td><td>&hellip;</td><td>&hellip;</td></tr><tr><td>&quot;NA1_5168606154&quot;</td><td>true</td><td>1023</td></tr><tr><td>&quot;NA1_5170644901&quot;</td><td>true</td><td>255</td></tr><tr><td>&quot;NA1_5170720153&quot;</td><td>true</td><td>1023</td></tr><tr><td>&quot;NA1_5177050727&quot;</td><td>true</td><td>767</td></tr><tr><td>&quot;NA1_5177097514&quot;</td><td>true</td><td>255</td></tr></tbody></table></div>"
      ],
      "text/plain": [
       "shape: (23, 3)\n",
       "┌────────────────┬───────┬────────────────────────┐\n",
       "│ game_id        ┆ win   ┆ champion_id_Hypocritus │\n",
       "│ ---            ┆ ---   ┆ ---                    │\n",
       "│ str            ┆ bool  ┆ i64                    │\n",
       "╞════════════════╪═══════╪════════════════════════╡\n",
       "│ NA1_5206375709 ┆ true  ┆ 255                    │\n",
       "│ NA1_5206412184 ┆ false ┆ 1023                   │\n",
       "│ NA1_5207643890 ┆ false ┆ 447                    │\n",
       "│ NA1_5207671213 ┆ false ┆ 1023                   │\n",
       "│ NA1_5205572005 ┆ false ┆ 127                    │\n",
       "│ …              ┆ …     ┆ …                      │\n",
       "│ NA1_5168606154 ┆ true  ┆ 1023                   │\n",
       "│ NA1_5170644901 ┆ true  ┆ 255                    │\n",
       "│ NA1_5170720153 ┆ true  ┆ 1023                   │\n",
       "│ NA1_5177050727 ┆ true  ┆ 767                    │\n",
       "│ NA1_5177097514 ┆ true  ┆ 255                    │\n",
       "└────────────────┴───────┴────────────────────────┘"
      ]
     },
     "execution_count": 153,
     "metadata": {},
     "output_type": "execute_result"
    }
   ],
   "source": [
    "pivot_df = champ_df.pivot('riot_id', index='game_id')\n",
    "pivot_df.select_seq(pl.col('game_id'), pl.col('win_Blue').alias('win'), pl.col('champion_id_Hypocritus')|\n",
    "                pl.col('champion_id_Triggerman')| pl.col('champion_id_Blue')| pl.col('champion_id_YDN Rock Coaches')|\n",
    "                pl.col('champion_id_wyzrdsnvrdie'))"
   ]
  },
  {
   "cell_type": "code",
   "execution_count": 186,
   "metadata": {},
   "outputs": [
    {
     "data": {
      "text/html": [
       "<div><style>\n",
       ".dataframe > thead > tr,\n",
       ".dataframe > tbody > tr {\n",
       "  text-align: right;\n",
       "  white-space: pre-wrap;\n",
       "}\n",
       "</style>\n",
       "<small>shape: (23, 3)</small><table border=\"1\" class=\"dataframe\"><thead><tr><th>game_id</th><th>win</th><th>champ_id_struct</th></tr><tr><td>str</td><td>bool</td><td>struct[5]</td></tr></thead><tbody><tr><td>&quot;NA1_5197758341&quot;</td><td>true</td><td>{516,104,103,202,89}</td></tr><tr><td>&quot;NA1_5177097514&quot;</td><td>true</td><td>{122,113,163,222,111}</td></tr><tr><td>&quot;NA1_5177050727&quot;</td><td>true</td><td>{516,62,103,15,143}</td></tr><tr><td>&quot;NA1_5187428841&quot;</td><td>true</td><td>{122,113,163,51,143}</td></tr><tr><td>&quot;NA1_5206375709&quot;</td><td>true</td><td>{122,72,103,202,143}</td></tr><tr><td>&hellip;</td><td>&hellip;</td><td>&hellip;</td></tr><tr><td>&quot;NA1_5198519859&quot;</td><td>false</td><td>{516,59,518,51,99}</td></tr><tr><td>&quot;NA1_5197728845&quot;</td><td>false</td><td>{122,64,61,22,201}</td></tr><tr><td>&quot;NA1_5183176803&quot;</td><td>true</td><td>{516,104,518,202,89}</td></tr><tr><td>&quot;NA1_5187997043&quot;</td><td>false</td><td>{61,234,54,22,143}</td></tr><tr><td>&quot;NA1_5170644901&quot;</td><td>true</td><td>{122,234,45,115,111}</td></tr></tbody></table></div>"
      ],
      "text/plain": [
       "shape: (23, 3)\n",
       "┌────────────────┬───────┬───────────────────────┐\n",
       "│ game_id        ┆ win   ┆ champ_id_struct       │\n",
       "│ ---            ┆ ---   ┆ ---                   │\n",
       "│ str            ┆ bool  ┆ struct[5]             │\n",
       "╞════════════════╪═══════╪═══════════════════════╡\n",
       "│ NA1_5197758341 ┆ true  ┆ {516,104,103,202,89}  │\n",
       "│ NA1_5177097514 ┆ true  ┆ {122,113,163,222,111} │\n",
       "│ NA1_5177050727 ┆ true  ┆ {516,62,103,15,143}   │\n",
       "│ NA1_5187428841 ┆ true  ┆ {122,113,163,51,143}  │\n",
       "│ NA1_5206375709 ┆ true  ┆ {122,72,103,202,143}  │\n",
       "│ …              ┆ …     ┆ …                     │\n",
       "│ NA1_5198519859 ┆ false ┆ {516,59,518,51,99}    │\n",
       "│ NA1_5197728845 ┆ false ┆ {122,64,61,22,201}    │\n",
       "│ NA1_5183176803 ┆ true  ┆ {516,104,518,202,89}  │\n",
       "│ NA1_5187997043 ┆ false ┆ {61,234,54,22,143}    │\n",
       "│ NA1_5170644901 ┆ true  ┆ {122,234,45,115,111}  │\n",
       "└────────────────┴───────┴───────────────────────┘"
      ]
     },
     "execution_count": 186,
     "metadata": {},
     "output_type": "execute_result"
    }
   ],
   "source": [
    "concat_df = champ_df.with_columns(pl.col('champion_id')\n",
    "                                .str.concat(delimiter=',')\n",
    "                                .over('game_id')\n",
    "                                .alias('concatenated_champ_ids'))\n",
    "\n",
    "converted_df = concat_df.with_columns(\n",
    "    pl.col('concatenated_champ_ids')\n",
    "    .str.split_exact(',',5)\n",
    "    .cast(pl.Struct([pl.Field(f'field_{i}', pl.Int64) for i in range(5)]))\n",
    "    .alias('champ_id_struct')\n",
    ")\n",
    "\n",
    "final_df = converted_df.select(['game_id', 'win', 'champ_id_struct']).unique()\n",
    "final_df"
   ]
  },
  {
   "cell_type": "code",
   "execution_count": 204,
   "metadata": {},
   "outputs": [
    {
     "data": {
      "text/plain": [
       "<xlsxwriter.workbook.Workbook at 0x1580c290b90>"
      ]
     },
     "execution_count": 204,
     "metadata": {},
     "output_type": "execute_result"
    }
   ],
   "source": [
    "test = final_df.with_columns(\n",
    "    pl.when(pl.col('win') == True)\n",
    "    .then(1)\n",
    "    .otherwise(0)\n",
    "    .alias('win_flag')\n",
    ")\n",
    "\n",
    "result = test.group_by('champ_id_struct', maintain_order=True).agg([pl.col('win_flag').eq(1).sum().alias('wins'),\n",
    "                                      pl.count('game_id').alias('total_matches')]).with_columns((pl.col('wins')/pl.col('total_matches')).alias('winrate'))\n",
    "\n",
    "result.write_excel('result.xlsx')"
   ]
  },
  {
   "cell_type": "code",
   "execution_count": 199,
   "metadata": {},
   "outputs": [
    {
     "data": {
      "text/plain": [
       "<xlsxwriter.workbook.Workbook at 0x158016728a0>"
      ]
     },
     "execution_count": 199,
     "metadata": {},
     "output_type": "execute_result"
    }
   ],
   "source": [
    "test.write_excel('polars_data.xlsx')"
   ]
  }
 ],
 "metadata": {
  "kernelspec": {
   "display_name": "Python 3",
   "language": "python",
   "name": "python3"
  },
  "language_info": {
   "codemirror_mode": {
    "name": "ipython",
    "version": 3
   },
   "file_extension": ".py",
   "mimetype": "text/x-python",
   "name": "python",
   "nbconvert_exporter": "python",
   "pygments_lexer": "ipython3",
   "version": "3.12.1"
  }
 },
 "nbformat": 4,
 "nbformat_minor": 2
}
