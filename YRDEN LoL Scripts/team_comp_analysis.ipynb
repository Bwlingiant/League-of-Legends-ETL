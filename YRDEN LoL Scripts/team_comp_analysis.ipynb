{
 "cells": [
  {
   "cell_type": "code",
   "execution_count": 2,
   "metadata": {},
   "outputs": [],
   "source": [
    "import polars as pl\n",
    "import constants\n",
    "import psycopg\n",
    "from riotwatcher import LolWatcher, ApiError, RiotWatcher\n",
    "\n",
    "# sys.stdout.reconfigure(encoding='utf-8')\n",
    "\n",
    "API_KEY = constants.API_KEY_SERVICE\n",
    "lol_watcher = LolWatcher(API_KEY)\n",
    "riot_watcher = RiotWatcher(API_KEY)\n",
    "lol_region = 'na1'\n",
    "\n",
    "db_pass = constants.db_password\n",
    "db_ip = constants.db_ip\n",
    "\n",
    "db_connection = f'dbname = yrden user=postgres password={db_pass} host={db_ip}'\n",
    "\n",
    "conn = psycopg.connect(db_connection)"
   ]
  },
  {
   "cell_type": "code",
   "execution_count": 7,
   "metadata": {},
   "outputs": [
    {
     "data": {
      "text/plain": [
       "(230, 59)"
      ]
     },
     "execution_count": 7,
     "metadata": {},
     "output_type": "execute_result"
    }
   ],
   "source": [
    "stats_query = '''SELECT * FROM \"yrden\".lol_game_data\n",
    "WHERE game_id in \n",
    "(select game_id\n",
    "from \"yrden\".lol_game_data\n",
    "where 1=1\n",
    "and queue_id in (440, 700)\n",
    "group by game_id\n",
    "having count(game_id) = 10)\n",
    "ORDER BY GAME_PATCH DESC, GAME_ID, TEAMID, CASE WHEN LANE = 'TOP' THEN 1 WHEN LANE = 'JUNGLE' THEN 2 WHEN LANE = 'MIDDLE' THEN 3 WHEN LANE = 'BOTTOM' THEN 4 ELSE 5 END\n",
    ";'''\n",
    "\n",
    "with conn.cursor() as cur:\n",
    "    cur.execute(stats_query)\n",
    "    col_names = [desc[0] for desc in cur.description]\n",
    "    rows = cur.fetchall()\n",
    "    df = pl.DataFrame(rows, schema=col_names, orient='row')\n",
    "\n",
    "df.shape"
   ]
  },
  {
   "cell_type": "code",
   "execution_count": 35,
   "metadata": {},
   "outputs": [],
   "source": [
    "yrden_df = df.filter(pl.col('riot_puuid').is_in(constants.yrden_lol_team_puuids))"
   ]
  },
  {
   "cell_type": "code",
   "execution_count": 38,
   "metadata": {},
   "outputs": [],
   "source": [
    "champ_df = yrden_df.select(pl.col('game_id'), pl.col('win'), pl.col('champion_id'), pl.col('riot_id'), pl.col('riot_puuid'))"
   ]
  },
  {
   "cell_type": "code",
   "execution_count": 85,
   "metadata": {},
   "outputs": [
    {
     "data": {
      "text/html": [
       "<div><style>\n",
       ".dataframe > thead > tr,\n",
       ".dataframe > tbody > tr {\n",
       "  text-align: right;\n",
       "  white-space: pre-wrap;\n",
       "}\n",
       "</style>\n",
       "<small>shape: (23, 7)</small><table border=\"1\" class=\"dataframe\"><thead><tr><th>game_id</th><th>win</th><th>champion_id_Hypocritus</th><th>champion_id_Triggerman</th><th>champion_id_Blue</th><th>champion_id_YDN Rock Coaches</th><th>champion_id_wyzrdsnvrdie</th></tr><tr><td>str</td><td>bool</td><td>i64</td><td>i64</td><td>i64</td><td>i64</td><td>i64</td></tr></thead><tbody><tr><td>&quot;NA1_5206375709&quot;</td><td>true</td><td>122</td><td>72</td><td>103</td><td>202</td><td>143</td></tr><tr><td>&quot;NA1_5206412184&quot;</td><td>false</td><td>516</td><td>234</td><td>84</td><td>115</td><td>412</td></tr><tr><td>&quot;NA1_5207643890&quot;</td><td>false</td><td>58</td><td>59</td><td>61</td><td>21</td><td>412</td></tr><tr><td>&quot;NA1_5207671213&quot;</td><td>false</td><td>122</td><td>876</td><td>115</td><td>145</td><td>412</td></tr><tr><td>&quot;NA1_5205572005&quot;</td><td>false</td><td>58</td><td>56</td><td>103</td><td>22</td><td>57</td></tr><tr><td>&hellip;</td><td>&hellip;</td><td>&hellip;</td><td>&hellip;</td><td>&hellip;</td><td>&hellip;</td><td>&hellip;</td></tr><tr><td>&quot;NA1_5168606154&quot;</td><td>true</td><td>122</td><td>876</td><td>61</td><td>22</td><td>412</td></tr><tr><td>&quot;NA1_5170644901&quot;</td><td>true</td><td>122</td><td>234</td><td>45</td><td>115</td><td>111</td></tr><tr><td>&quot;NA1_5170720153&quot;</td><td>true</td><td>516</td><td>876</td><td>142</td><td>51</td><td>412</td></tr><tr><td>&quot;NA1_5177050727&quot;</td><td>true</td><td>516</td><td>62</td><td>103</td><td>15</td><td>143</td></tr><tr><td>&quot;NA1_5177097514&quot;</td><td>true</td><td>122</td><td>113</td><td>163</td><td>222</td><td>111</td></tr></tbody></table></div>"
      ],
      "text/plain": [
       "shape: (23, 7)\n",
       "┌───────────────┬───────┬──────────────┬──────────────┬──────────────┬──────────────┬──────────────┐\n",
       "│ game_id       ┆ win   ┆ champion_id_ ┆ champion_id_ ┆ champion_id_ ┆ champion_id_ ┆ champion_id_ │\n",
       "│ ---           ┆ ---   ┆ Hypocritus   ┆ Triggerman   ┆ Blue         ┆ YDN Rock     ┆ wyzrdsnvrdie │\n",
       "│ str           ┆ bool  ┆ ---          ┆ ---          ┆ ---          ┆ Coaches      ┆ ---          │\n",
       "│               ┆       ┆ i64          ┆ i64          ┆ i64          ┆ ---          ┆ i64          │\n",
       "│               ┆       ┆              ┆              ┆              ┆ i64          ┆              │\n",
       "╞═══════════════╪═══════╪══════════════╪══════════════╪══════════════╪══════════════╪══════════════╡\n",
       "│ NA1_520637570 ┆ true  ┆ 122          ┆ 72           ┆ 103          ┆ 202          ┆ 143          │\n",
       "│ 9             ┆       ┆              ┆              ┆              ┆              ┆              │\n",
       "│ NA1_520641218 ┆ false ┆ 516          ┆ 234          ┆ 84           ┆ 115          ┆ 412          │\n",
       "│ 4             ┆       ┆              ┆              ┆              ┆              ┆              │\n",
       "│ NA1_520764389 ┆ false ┆ 58           ┆ 59           ┆ 61           ┆ 21           ┆ 412          │\n",
       "│ 0             ┆       ┆              ┆              ┆              ┆              ┆              │\n",
       "│ NA1_520767121 ┆ false ┆ 122          ┆ 876          ┆ 115          ┆ 145          ┆ 412          │\n",
       "│ 3             ┆       ┆              ┆              ┆              ┆              ┆              │\n",
       "│ NA1_520557200 ┆ false ┆ 58           ┆ 56           ┆ 103          ┆ 22           ┆ 57           │\n",
       "│ 5             ┆       ┆              ┆              ┆              ┆              ┆              │\n",
       "│ …             ┆ …     ┆ …            ┆ …            ┆ …            ┆ …            ┆ …            │\n",
       "│ NA1_516860615 ┆ true  ┆ 122          ┆ 876          ┆ 61           ┆ 22           ┆ 412          │\n",
       "│ 4             ┆       ┆              ┆              ┆              ┆              ┆              │\n",
       "│ NA1_517064490 ┆ true  ┆ 122          ┆ 234          ┆ 45           ┆ 115          ┆ 111          │\n",
       "│ 1             ┆       ┆              ┆              ┆              ┆              ┆              │\n",
       "│ NA1_517072015 ┆ true  ┆ 516          ┆ 876          ┆ 142          ┆ 51           ┆ 412          │\n",
       "│ 3             ┆       ┆              ┆              ┆              ┆              ┆              │\n",
       "│ NA1_517705072 ┆ true  ┆ 516          ┆ 62           ┆ 103          ┆ 15           ┆ 143          │\n",
       "│ 7             ┆       ┆              ┆              ┆              ┆              ┆              │\n",
       "│ NA1_517709751 ┆ true  ┆ 122          ┆ 113          ┆ 163          ┆ 222          ┆ 111          │\n",
       "│ 4             ┆       ┆              ┆              ┆              ┆              ┆              │\n",
       "└───────────────┴───────┴──────────────┴──────────────┴──────────────┴──────────────┴──────────────┘"
      ]
     },
     "execution_count": 85,
     "metadata": {},
     "output_type": "execute_result"
    }
   ],
   "source": [
    "pivot_df = champ_df.pivot('riot_id', index='game_id')\n",
    "pivot_df.select(pl.col('game_id'), pl.col('win_Blue').alias('win'), pl.col('champion_id_Hypocritus'),\n",
    "                pl.col('champion_id_Triggerman'), pl.col('champion_id_Blue'), pl.col('champion_id_YDN Rock Coaches'),\n",
    "                pl.col('champion_id_wyzrdsnvrdie'))"
   ]
  },
  {
   "cell_type": "code",
   "execution_count": 79,
   "metadata": {},
   "outputs": [
    {
     "name": "stderr",
     "output_type": "stream",
     "text": [
      "C:\\Users\\Erica\\AppData\\Local\\Temp\\ipykernel_1168832\\2540391368.py:6: UserWarning: `to_struct()` should be passed a list of field names to avoid query errors in subsequent operations (e.g. <struct operation> not supported for dtype Unknown)\n",
      "  concat_df = test_df.select(pl.col('concatentated_champ_ids').str.split(',').list.to_struct(n_field_strategy='max_width')).unnest('concatentated_champ_ids')\n"
     ]
    },
    {
     "data": {
      "text/html": [
       "<div><style>\n",
       ".dataframe > thead > tr,\n",
       ".dataframe > tbody > tr {\n",
       "  text-align: right;\n",
       "  white-space: pre-wrap;\n",
       "}\n",
       "</style>\n",
       "<small>shape: (115, 10)</small><table border=\"1\" class=\"dataframe\"><thead><tr><th>game_id</th><th>win</th><th>champion_id</th><th>riot_id</th><th>riot_puuid</th><th>field_0</th><th>field_1</th><th>field_2</th><th>field_3</th><th>field_4</th></tr><tr><td>str</td><td>bool</td><td>i64</td><td>str</td><td>str</td><td>str</td><td>str</td><td>str</td><td>str</td><td>str</td></tr></thead><tbody><tr><td>&quot;NA1_5206375709&quot;</td><td>true</td><td>122</td><td>&quot;Hypocritus&quot;</td><td>&quot;Xhi01hd4YPU92OGkFKSsqEnTtVwTD_…</td><td>&quot;122&quot;</td><td>&quot;72&quot;</td><td>&quot;103&quot;</td><td>&quot;202&quot;</td><td>&quot;143&quot;</td></tr><tr><td>&quot;NA1_5206375709&quot;</td><td>true</td><td>72</td><td>&quot;Triggerman&quot;</td><td>&quot;0CpS1bKgKnH7IKuMVnpeOpyLFIj3J7…</td><td>&quot;122&quot;</td><td>&quot;72&quot;</td><td>&quot;103&quot;</td><td>&quot;202&quot;</td><td>&quot;143&quot;</td></tr><tr><td>&quot;NA1_5206375709&quot;</td><td>true</td><td>103</td><td>&quot;Blue&quot;</td><td>&quot;gw2MWsJzlQYIRr40fYEyB2RdJBixmb…</td><td>&quot;122&quot;</td><td>&quot;72&quot;</td><td>&quot;103&quot;</td><td>&quot;202&quot;</td><td>&quot;143&quot;</td></tr><tr><td>&quot;NA1_5206375709&quot;</td><td>true</td><td>202</td><td>&quot;YDN Rock Coaches&quot;</td><td>&quot;oFdCaHSdLE-umAd_AUTwskzbTOEPp-…</td><td>&quot;122&quot;</td><td>&quot;72&quot;</td><td>&quot;103&quot;</td><td>&quot;202&quot;</td><td>&quot;143&quot;</td></tr><tr><td>&quot;NA1_5206375709&quot;</td><td>true</td><td>143</td><td>&quot;wyzrdsnvrdie&quot;</td><td>&quot;nQd7Ylk472T9NtwuS-hhuLDcxoUg71…</td><td>&quot;122&quot;</td><td>&quot;72&quot;</td><td>&quot;103&quot;</td><td>&quot;202&quot;</td><td>&quot;143&quot;</td></tr><tr><td>&hellip;</td><td>&hellip;</td><td>&hellip;</td><td>&hellip;</td><td>&hellip;</td><td>&hellip;</td><td>&hellip;</td><td>&hellip;</td><td>&hellip;</td><td>&hellip;</td></tr><tr><td>&quot;NA1_5177097514&quot;</td><td>true</td><td>122</td><td>&quot;Hypocritus&quot;</td><td>&quot;Xhi01hd4YPU92OGkFKSsqEnTtVwTD_…</td><td>&quot;122&quot;</td><td>&quot;113&quot;</td><td>&quot;163&quot;</td><td>&quot;222&quot;</td><td>&quot;111&quot;</td></tr><tr><td>&quot;NA1_5177097514&quot;</td><td>true</td><td>113</td><td>&quot;Triggerman&quot;</td><td>&quot;0CpS1bKgKnH7IKuMVnpeOpyLFIj3J7…</td><td>&quot;122&quot;</td><td>&quot;113&quot;</td><td>&quot;163&quot;</td><td>&quot;222&quot;</td><td>&quot;111&quot;</td></tr><tr><td>&quot;NA1_5177097514&quot;</td><td>true</td><td>163</td><td>&quot;Blue&quot;</td><td>&quot;gw2MWsJzlQYIRr40fYEyB2RdJBixmb…</td><td>&quot;122&quot;</td><td>&quot;113&quot;</td><td>&quot;163&quot;</td><td>&quot;222&quot;</td><td>&quot;111&quot;</td></tr><tr><td>&quot;NA1_5177097514&quot;</td><td>true</td><td>222</td><td>&quot;YDN Rock Coaches&quot;</td><td>&quot;oFdCaHSdLE-umAd_AUTwskzbTOEPp-…</td><td>&quot;122&quot;</td><td>&quot;113&quot;</td><td>&quot;163&quot;</td><td>&quot;222&quot;</td><td>&quot;111&quot;</td></tr><tr><td>&quot;NA1_5177097514&quot;</td><td>true</td><td>111</td><td>&quot;wyzrdsnvrdie&quot;</td><td>&quot;nQd7Ylk472T9NtwuS-hhuLDcxoUg71…</td><td>&quot;122&quot;</td><td>&quot;113&quot;</td><td>&quot;163&quot;</td><td>&quot;222&quot;</td><td>&quot;111&quot;</td></tr></tbody></table></div>"
      ],
      "text/plain": [
       "shape: (115, 10)\n",
       "┌────────────────┬──────┬─────────────┬────────────────┬───┬─────────┬─────────┬─────────┬─────────┐\n",
       "│ game_id        ┆ win  ┆ champion_id ┆ riot_id        ┆ … ┆ field_1 ┆ field_2 ┆ field_3 ┆ field_4 │\n",
       "│ ---            ┆ ---  ┆ ---         ┆ ---            ┆   ┆ ---     ┆ ---     ┆ ---     ┆ ---     │\n",
       "│ str            ┆ bool ┆ i64         ┆ str            ┆   ┆ str     ┆ str     ┆ str     ┆ str     │\n",
       "╞════════════════╪══════╪═════════════╪════════════════╪═══╪═════════╪═════════╪═════════╪═════════╡\n",
       "│ NA1_5206375709 ┆ true ┆ 122         ┆ Hypocritus     ┆ … ┆ 72      ┆ 103     ┆ 202     ┆ 143     │\n",
       "│ NA1_5206375709 ┆ true ┆ 72          ┆ Triggerman     ┆ … ┆ 72      ┆ 103     ┆ 202     ┆ 143     │\n",
       "│ NA1_5206375709 ┆ true ┆ 103         ┆ Blue           ┆ … ┆ 72      ┆ 103     ┆ 202     ┆ 143     │\n",
       "│ NA1_5206375709 ┆ true ┆ 202         ┆ YDN Rock       ┆ … ┆ 72      ┆ 103     ┆ 202     ┆ 143     │\n",
       "│                ┆      ┆             ┆ Coaches        ┆   ┆         ┆         ┆         ┆         │\n",
       "│ NA1_5206375709 ┆ true ┆ 143         ┆ wyzrdsnvrdie   ┆ … ┆ 72      ┆ 103     ┆ 202     ┆ 143     │\n",
       "│ …              ┆ …    ┆ …           ┆ …              ┆ … ┆ …       ┆ …       ┆ …       ┆ …       │\n",
       "│ NA1_5177097514 ┆ true ┆ 122         ┆ Hypocritus     ┆ … ┆ 113     ┆ 163     ┆ 222     ┆ 111     │\n",
       "│ NA1_5177097514 ┆ true ┆ 113         ┆ Triggerman     ┆ … ┆ 113     ┆ 163     ┆ 222     ┆ 111     │\n",
       "│ NA1_5177097514 ┆ true ┆ 163         ┆ Blue           ┆ … ┆ 113     ┆ 163     ┆ 222     ┆ 111     │\n",
       "│ NA1_5177097514 ┆ true ┆ 222         ┆ YDN Rock       ┆ … ┆ 113     ┆ 163     ┆ 222     ┆ 111     │\n",
       "│                ┆      ┆             ┆ Coaches        ┆   ┆         ┆         ┆         ┆         │\n",
       "│ NA1_5177097514 ┆ true ┆ 111         ┆ wyzrdsnvrdie   ┆ … ┆ 113     ┆ 163     ┆ 222     ┆ 111     │\n",
       "└────────────────┴──────┴─────────────┴────────────────┴───┴─────────┴─────────┴─────────┴─────────┘"
      ]
     },
     "execution_count": 79,
     "metadata": {},
     "output_type": "execute_result"
    }
   ],
   "source": [
    "test_df = champ_df.with_columns(pl.col('champion_id').str.concat(delimiter=',').over('game_id').alias('concatentated_champ_ids'))\n",
    "\n",
    "# test_df\n",
    "\n",
    "# test_df = champ_df.with_columns(pl.col('concatenated_champ_ids'))\n",
    "concat_df = test_df.select(pl.col('concatentated_champ_ids').str.split(',').list.to_struct(n_field_strategy='max_width')).unnest('concatentated_champ_ids')\n",
    "\n",
    "pivoted_df = pl.concat([champ_df, concat_df], how='horizontal')\n",
    "\n",
    "pivoted_df\n"
   ]
  },
  {
   "cell_type": "code",
   "execution_count": null,
   "metadata": {},
   "outputs": [],
   "source": []
  }
 ],
 "metadata": {
  "kernelspec": {
   "display_name": "Python 3",
   "language": "python",
   "name": "python3"
  },
  "language_info": {
   "codemirror_mode": {
    "name": "ipython",
    "version": 3
   },
   "file_extension": ".py",
   "mimetype": "text/x-python",
   "name": "python",
   "nbconvert_exporter": "python",
   "pygments_lexer": "ipython3",
   "version": "3.12.1"
  }
 },
 "nbformat": 4,
 "nbformat_minor": 2
}
