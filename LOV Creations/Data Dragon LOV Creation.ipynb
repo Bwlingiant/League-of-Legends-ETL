{
 "cells": [
  {
   "cell_type": "code",
   "execution_count": 1,
   "id": "7c849fb2-89e2-4a65-8989-83e7b42b5781",
   "metadata": {},
   "outputs": [],
   "source": [
    "import sys\n",
    "import time\n",
    "import json\n",
    "import psycopg2\n",
    "import constants\n",
    "\n",
    "from riotwatcher import LolWatcher, ValWatcher, ApiError, RiotWatcher\n",
    "\n",
    "import match_fetcher"
   ]
  },
  {
   "cell_type": "code",
   "execution_count": null,
   "id": "9f7bb6b0-55e0-4089-8e29-8e68401cf085",
   "metadata": {},
   "outputs": [],
   "source": []
  },
  {
   "cell_type": "code",
   "execution_count": 2,
   "id": "4ee0a86e-036d-47a3-9527-e4088da337c4",
   "metadata": {},
   "outputs": [],
   "source": [
    "API_KEY = constants.API_KEY_SERVICE\n",
    "db_pass = constants.db_password\n",
    "db_ip = constants.db_ip\n",
    "lol_watcher = LolWatcher(API_KEY)\n",
    "riot_watcher = RiotWatcher(API_KEY)\n",
    "with open('/Users/Erica/Desktop/Personal Data Projects/Yrden DB/Riot API/queues.json') as file:\n",
    "    data = json.load(file)\n",
    "\n",
    "#Connect to Yrden DB\n",
    "#Private args are executed and then deleted for safety\n",
    "conn = psycopg2.connect(dbname=\"YRDEN\", user=\"postgres\", password = db_pass, host =db_ip)\n",
    "cur = conn.cursor()"
   ]
  },
  {
   "cell_type": "code",
   "execution_count": 3,
   "id": "a88bb766-2422-4d86-92f4-a9d2e29cc6ef",
   "metadata": {},
   "outputs": [
    {
     "data": {
      "text/plain": [
       "{'item': '13.24.1',\n",
       " 'rune': '7.23.1',\n",
       " 'mastery': '7.23.1',\n",
       " 'summoner': '13.24.1',\n",
       " 'champion': '13.24.1',\n",
       " 'profileicon': '13.24.1',\n",
       " 'map': '13.24.1',\n",
       " 'language': '13.24.1',\n",
       " 'sticker': '13.24.1'}"
      ]
     },
     "execution_count": 3,
     "metadata": {},
     "output_type": "execute_result"
    }
   ],
   "source": [
    "lol_watcher.data_dragon.versions_for_region('na1')['n']"
   ]
  },
  {
   "cell_type": "code",
   "execution_count": 4,
   "id": "b2f2af55-b137-4f7e-869c-24fe74e67226",
   "metadata": {},
   "outputs": [],
   "source": [
    "#\n",
    "DDRegion = lol_watcher.data_dragon.versions_for_region('na1')['n']\n",
    "DDitem = DDRegion['item']\n",
    "DDrune = DDRegion['rune']\n",
    "DDmastery = DDRegion['mastery']\n",
    "DDsummoner = DDRegion['summoner']\n",
    "DDchampion = DDRegion['champion']\n",
    "DDmap = DDRegion['map']"
   ]
  },
  {
   "cell_type": "code",
   "execution_count": 5,
   "id": "157d49b4-2a2f-4888-94eb-78dd86369803",
   "metadata": {},
   "outputs": [
    {
     "data": {
      "text/plain": [
       "dict_keys(['type', 'version', 'data'])"
      ]
     },
     "execution_count": 5,
     "metadata": {},
     "output_type": "execute_result"
    }
   ],
   "source": [
    "lol_watcher.data_dragon.summoner_spells(DDsummoner).keys()"
   ]
  },
  {
   "cell_type": "code",
   "execution_count": 6,
   "id": "d9109bdc-f093-476a-9f94-0f9714e1a062",
   "metadata": {
    "tags": []
   },
   "outputs": [
    {
     "name": "stdout",
     "output_type": "stream",
     "text": [
      "dict_keys(['SummonerBarrier', 'SummonerBoost', 'SummonerCherryFlash', 'SummonerCherryHold', 'SummonerDot', 'SummonerExhaust', 'SummonerFlash', 'SummonerHaste', 'SummonerHeal', 'SummonerMana', 'SummonerPoroRecall', 'SummonerPoroThrow', 'SummonerSmite', 'SummonerSnowURFSnowball_Mark', 'SummonerSnowball', 'SummonerTeleport', 'Summoner_UltBookPlaceholder', 'Summoner_UltBookSmitePlaceholder'])\n"
     ]
    },
    {
     "data": {
      "text/plain": [
       "{'id': 'SummonerSnowURFSnowball_Mark',\n",
       " 'name': 'Mark',\n",
       " 'description': 'Throw a snowball in a straight line at your enemies. If it hits an enemy, they become marked, granting True Sight, and your champion can quickly travel to the marked target as a follow up.',\n",
       " 'tooltip': 'Throw a snowball a long distance, dealing {{ tooltipdamagetotal }} true damage to the first enemy unit hit and granting <span class=\"coloree91d7\">True Sight</span> of the target. If it hits an enemy, this ability can be recast for {{ e3 }} seconds to Dash to the tagged unit, dealing an additional {{ tooltipdamagetotal }} true damage. Dashing to the target will reduce the cooldown of Mark by {{ e4 }}%.<br /><br /><span class=\"colorFFFF00\">Mark projectiles are not stopped by spell shields or projectile mitigation.</span>',\n",
       " 'maxrank': 1,\n",
       " 'cooldown': [80],\n",
       " 'cooldownBurn': '80',\n",
       " 'cost': [0],\n",
       " 'costBurn': '0',\n",
       " 'datavalues': {},\n",
       " 'effect': [None, [10], [5], [3], [25], [0], [0], [0], [0], [0], [0]],\n",
       " 'effectBurn': [None, '10', '5', '3', '25', '0', '0', '0', '0', '0', '0'],\n",
       " 'vars': [],\n",
       " 'key': '39',\n",
       " 'summonerLevel': 6,\n",
       " 'modes': ['SNOWURF'],\n",
       " 'costType': 'No Cost',\n",
       " 'maxammo': '-1',\n",
       " 'range': [8000],\n",
       " 'rangeBurn': '8000',\n",
       " 'image': {'full': 'SummonerSnowURFSnowball_Mark.png',\n",
       "  'sprite': 'spell0.png',\n",
       "  'group': 'spell',\n",
       "  'x': 144,\n",
       "  'y': 48,\n",
       "  'w': 48,\n",
       "  'h': 48},\n",
       " 'resource': 'No Cost'}"
      ]
     },
     "execution_count": 6,
     "metadata": {},
     "output_type": "execute_result"
    }
   ],
   "source": [
    "summoners = lol_watcher.data_dragon.summoner_spells(DDsummoner)['data']\n",
    "print(summoners.keys())\n",
    "summoners['SummonerSnowURFSnowball_Mark']\n"
   ]
  },
  {
   "cell_type": "code",
   "execution_count": 7,
   "id": "275e55be-a7f9-4215-b54a-248871660abc",
   "metadata": {},
   "outputs": [
    {
     "ename": "KeyError",
     "evalue": "'modes'",
     "output_type": "error",
     "traceback": [
      "\u001b[1;31m---------------------------------------------------------------------------\u001b[0m",
      "\u001b[1;31mKeyError\u001b[0m                                  Traceback (most recent call last)",
      "Input \u001b[1;32mIn [7]\u001b[0m, in \u001b[0;36m<cell line: 1>\u001b[1;34m()\u001b[0m\n\u001b[0;32m     11\u001b[0m \u001b[38;5;28;01mfor\u001b[39;00m n \u001b[38;5;129;01min\u001b[39;00m summoners:\n\u001b[0;32m     12\u001b[0m     summoner_dict\u001b[38;5;241m.\u001b[39mupdate({\u001b[38;5;124m'\u001b[39m\u001b[38;5;124mspell_name\u001b[39m\u001b[38;5;124m'\u001b[39m : summoners[n][\u001b[38;5;124m'\u001b[39m\u001b[38;5;124mname\u001b[39m\u001b[38;5;124m'\u001b[39m],\n\u001b[0;32m     13\u001b[0m                          \u001b[38;5;124m'\u001b[39m\u001b[38;5;124mspell_id\u001b[39m\u001b[38;5;124m'\u001b[39m : summoners[n][\u001b[38;5;124m'\u001b[39m\u001b[38;5;124mkey\u001b[39m\u001b[38;5;124m'\u001b[39m]})\n\u001b[1;32m---> 14\u001b[0m     \u001b[43mcurs\u001b[49m\u001b[38;5;241;43m.\u001b[39;49m\u001b[43mexecute\u001b[49m\u001b[43m(\u001b[49m\u001b[38;5;124;43m'''\u001b[39;49m\u001b[38;5;124;43mINSERT INTO \u001b[39;49m\u001b[38;5;124;43m\"\u001b[39;49m\u001b[38;5;124;43mLOLLOV\u001b[39;49m\u001b[38;5;124;43m\"\u001b[39;49m\u001b[38;5;124;43m.lol_summoner_spells\u001b[39;49m\n\u001b[0;32m     15\u001b[0m \u001b[38;5;124;43m    (spell_name, spell_id)\u001b[39;49m\n\u001b[0;32m     16\u001b[0m \u001b[38;5;124;43m    VALUES\u001b[39;49m\n\u001b[0;32m     17\u001b[0m \u001b[38;5;124;43m    (\u001b[39;49m\u001b[38;5;132;43;01m%(spell_name)s\u001b[39;49;00m\u001b[38;5;124;43m, \u001b[39;49m\u001b[38;5;132;43;01m%(spell_id)s\u001b[39;49;00m\u001b[38;5;124;43m, \u001b[39;49m\u001b[38;5;132;43;01m%(modes)s\u001b[39;49;00m\u001b[38;5;124;43m);\u001b[39;49m\u001b[38;5;124;43m'''\u001b[39;49m\u001b[43m,\u001b[49m\u001b[43m \u001b[49m\u001b[43msummoner_dict\u001b[49m\u001b[43m)\u001b[49m\n\u001b[0;32m     18\u001b[0m     conn\u001b[38;5;241m.\u001b[39mcommit()\n",
      "\u001b[1;31mKeyError\u001b[0m: 'modes'"
     ]
    }
   ],
   "source": [
    "with conn.cursor() as curs:\n",
    "    summoner_dict = {}\n",
    "    curs.execute(''' DROP TABLE \"LOLLOV\".lol_summoner_spells ''')\n",
    "    curs.execute(''' CREATE TABLE \"LOLLOV\".lol_summoner_spells\n",
    "    (\n",
    "    spell_name varchar,\n",
    "    spell_id int,\n",
    "    modes varchar\n",
    "    );''')\n",
    "    conn.commit()\n",
    "    for n in summoners:\n",
    "        summoner_dict.update({'spell_name' : summoners[n]['name'],\n",
    "                             'spell_id' : summoners[n]['key']})\n",
    "        curs.execute('''INSERT INTO \"LOLLOV\".lol_summoner_spells\n",
    "        (spell_name, spell_id)\n",
    "        VALUES\n",
    "        (%(spell_name)s, %(spell_id)s, %(modes)s);''', summoner_dict)\n",
    "        conn.commit()\n",
    "    "
   ]
  },
  {
   "cell_type": "code",
   "execution_count": 8,
   "id": "bc5ee90a-1233-465e-9450-b04ee48d8f42",
   "metadata": {},
   "outputs": [
    {
     "data": {
      "text/plain": [
       "dict_keys(['type', 'format', 'version', 'data'])"
      ]
     },
     "execution_count": 8,
     "metadata": {},
     "output_type": "execute_result"
    }
   ],
   "source": [
    "lol_watcher.data_dragon.champions(DDchampion).keys()"
   ]
  },
  {
   "cell_type": "code",
   "execution_count": 9,
   "id": "1fac315a-df61-4983-93c8-0051ee3ba21e",
   "metadata": {},
   "outputs": [
    {
     "data": {
      "text/plain": [
       "dict_keys(['Aatrox', 'Ahri', 'Akali', 'Akshan', 'Alistar', 'Amumu', 'Anivia', 'Annie', 'Aphelios', 'Ashe', 'AurelionSol', 'Azir', 'Bard', 'Belveth', 'Blitzcrank', 'Brand', 'Braum', 'Briar', 'Caitlyn', 'Camille', 'Cassiopeia', 'Chogath', 'Corki', 'Darius', 'Diana', 'Draven', 'DrMundo', 'Ekko', 'Elise', 'Evelynn', 'Ezreal', 'Fiddlesticks', 'Fiora', 'Fizz', 'Galio', 'Gangplank', 'Garen', 'Gnar', 'Gragas', 'Graves', 'Gwen', 'Hecarim', 'Heimerdinger', 'Hwei', 'Illaoi', 'Irelia', 'Ivern', 'Janna', 'JarvanIV', 'Jax', 'Jayce', 'Jhin', 'Jinx', 'Kaisa', 'Kalista', 'Karma', 'Karthus', 'Kassadin', 'Katarina', 'Kayle', 'Kayn', 'Kennen', 'Khazix', 'Kindred', 'Kled', 'KogMaw', 'KSante', 'Leblanc', 'LeeSin', 'Leona', 'Lillia', 'Lissandra', 'Lucian', 'Lulu', 'Lux', 'Malphite', 'Malzahar', 'Maokai', 'MasterYi', 'Milio', 'MissFortune', 'MonkeyKing', 'Mordekaiser', 'Morgana', 'Naafiri', 'Nami', 'Nasus', 'Nautilus', 'Neeko', 'Nidalee', 'Nilah', 'Nocturne', 'Nunu', 'Olaf', 'Orianna', 'Ornn', 'Pantheon', 'Poppy', 'Pyke', 'Qiyana', 'Quinn', 'Rakan', 'Rammus', 'RekSai', 'Rell', 'Renata', 'Renekton', 'Rengar', 'Riven', 'Rumble', 'Ryze', 'Samira', 'Sejuani', 'Senna', 'Seraphine', 'Sett', 'Shaco', 'Shen', 'Shyvana', 'Singed', 'Sion', 'Sivir', 'Skarner', 'Sona', 'Soraka', 'Swain', 'Sylas', 'Syndra', 'TahmKench', 'Taliyah', 'Talon', 'Taric', 'Teemo', 'Thresh', 'Tristana', 'Trundle', 'Tryndamere', 'TwistedFate', 'Twitch', 'Udyr', 'Urgot', 'Varus', 'Vayne', 'Veigar', 'Velkoz', 'Vex', 'Vi', 'Viego', 'Viktor', 'Vladimir', 'Volibear', 'Warwick', 'Xayah', 'Xerath', 'XinZhao', 'Yasuo', 'Yone', 'Yorick', 'Yuumi', 'Zac', 'Zed', 'Zeri', 'Ziggs', 'Zilean', 'Zoe', 'Zyra'])"
      ]
     },
     "execution_count": 9,
     "metadata": {},
     "output_type": "execute_result"
    }
   ],
   "source": [
    "lol_watcher.data_dragon.champions(DDchampion)['data'].keys()"
   ]
  },
  {
   "cell_type": "code",
   "execution_count": 10,
   "id": "8ed0437f-2ad0-4183-b1db-2245a5775f51",
   "metadata": {},
   "outputs": [
    {
     "data": {
      "text/plain": [
       "time.struct_time(tm_year=2023, tm_mon=12, tm_mday=16, tm_hour=12, tm_min=40, tm_sec=3, tm_wday=5, tm_yday=350, tm_isdst=0)"
      ]
     },
     "execution_count": 10,
     "metadata": {},
     "output_type": "execute_result"
    }
   ],
   "source": [
    "time.localtime()"
   ]
  },
  {
   "cell_type": "code",
   "execution_count": 11,
   "id": "bf5c3195-b3fa-4b20-83e3-57f8df768c0a",
   "metadata": {
    "tags": []
   },
   "outputs": [
    {
     "data": {
      "text/plain": [
       "dict_keys(['Aatrox', 'Ahri', 'Akali', 'Akshan', 'Alistar', 'Amumu', 'Anivia', 'Annie', 'Aphelios', 'Ashe', 'AurelionSol', 'Azir', 'Bard', 'Belveth', 'Blitzcrank', 'Brand', 'Braum', 'Briar', 'Caitlyn', 'Camille', 'Cassiopeia', 'Chogath', 'Corki', 'Darius', 'Diana', 'Draven', 'DrMundo', 'Ekko', 'Elise', 'Evelynn', 'Ezreal', 'Fiddlesticks', 'Fiora', 'Fizz', 'Galio', 'Gangplank', 'Garen', 'Gnar', 'Gragas', 'Graves', 'Gwen', 'Hecarim', 'Heimerdinger', 'Hwei', 'Illaoi', 'Irelia', 'Ivern', 'Janna', 'JarvanIV', 'Jax', 'Jayce', 'Jhin', 'Jinx', 'Kaisa', 'Kalista', 'Karma', 'Karthus', 'Kassadin', 'Katarina', 'Kayle', 'Kayn', 'Kennen', 'Khazix', 'Kindred', 'Kled', 'KogMaw', 'KSante', 'Leblanc', 'LeeSin', 'Leona', 'Lillia', 'Lissandra', 'Lucian', 'Lulu', 'Lux', 'Malphite', 'Malzahar', 'Maokai', 'MasterYi', 'Milio', 'MissFortune', 'MonkeyKing', 'Mordekaiser', 'Morgana', 'Naafiri', 'Nami', 'Nasus', 'Nautilus', 'Neeko', 'Nidalee', 'Nilah', 'Nocturne', 'Nunu', 'Olaf', 'Orianna', 'Ornn', 'Pantheon', 'Poppy', 'Pyke', 'Qiyana', 'Quinn', 'Rakan', 'Rammus', 'RekSai', 'Rell', 'Renata', 'Renekton', 'Rengar', 'Riven', 'Rumble', 'Ryze', 'Samira', 'Sejuani', 'Senna', 'Seraphine', 'Sett', 'Shaco', 'Shen', 'Shyvana', 'Singed', 'Sion', 'Sivir', 'Skarner', 'Sona', 'Soraka', 'Swain', 'Sylas', 'Syndra', 'TahmKench', 'Taliyah', 'Talon', 'Taric', 'Teemo', 'Thresh', 'Tristana', 'Trundle', 'Tryndamere', 'TwistedFate', 'Twitch', 'Udyr', 'Urgot', 'Varus', 'Vayne', 'Veigar', 'Velkoz', 'Vex', 'Vi', 'Viego', 'Viktor', 'Vladimir', 'Volibear', 'Warwick', 'Xayah', 'Xerath', 'XinZhao', 'Yasuo', 'Yone', 'Yorick', 'Yuumi', 'Zac', 'Zed', 'Zeri', 'Ziggs', 'Zilean', 'Zoe', 'Zyra'])"
      ]
     },
     "execution_count": 11,
     "metadata": {},
     "output_type": "execute_result"
    }
   ],
   "source": [
    "lol_watcher.data_dragon.champions(DDchampion)['data'].keys()"
   ]
  },
  {
   "cell_type": "code",
   "execution_count": 12,
   "id": "e527084a-795b-4516-8034-ceec86194e53",
   "metadata": {},
   "outputs": [
    {
     "data": {
      "text/plain": [
       "dict_keys(['version', 'id', 'key', 'name', 'title', 'blurb', 'info', 'image', 'tags', 'partype', 'stats'])"
      ]
     },
     "execution_count": 12,
     "metadata": {},
     "output_type": "execute_result"
    }
   ],
   "source": [
    "lol_watcher.data_dragon.champions(DDchampion)['data']['Sylas'].keys()"
   ]
  },
  {
   "cell_type": "code",
   "execution_count": 13,
   "id": "8da5a0f4-fc04-4724-8c8d-a4f555cbf2c3",
   "metadata": {},
   "outputs": [
    {
     "data": {
      "text/plain": [
       "dict_keys(['type', 'version', 'data'])"
      ]
     },
     "execution_count": 13,
     "metadata": {},
     "output_type": "execute_result"
    }
   ],
   "source": [
    "lol_watcher.data_dragon.maps(DDmap).keys()"
   ]
  },
  {
   "cell_type": "code",
   "execution_count": 14,
   "id": "2a489dc8-c4bd-4912-b567-8e11ac82636a",
   "metadata": {},
   "outputs": [
    {
     "data": {
      "text/plain": [
       "dict_keys(['11', '12', '21', '22', '30'])"
      ]
     },
     "execution_count": 14,
     "metadata": {},
     "output_type": "execute_result"
    }
   ],
   "source": [
    "lol_watcher.data_dragon.maps(DDmap)['data'].keys()"
   ]
  },
  {
   "cell_type": "code",
   "execution_count": 15,
   "id": "b034716b-c495-40d1-b26e-7086047f922b",
   "metadata": {},
   "outputs": [
    {
     "data": {
      "text/plain": [
       "{'MapName': \"Summoner's Rift\",\n",
       " 'MapId': '11',\n",
       " 'image': {'full': 'map11.png',\n",
       "  'sprite': 'map0.png',\n",
       "  'group': 'map',\n",
       "  'x': 0,\n",
       "  'y': 0,\n",
       "  'w': 48,\n",
       "  'h': 48}}"
      ]
     },
     "execution_count": 15,
     "metadata": {},
     "output_type": "execute_result"
    }
   ],
   "source": [
    "lol_watcher.data_dragon.maps(DDmap)['data']['11']"
   ]
  },
  {
   "cell_type": "code",
   "execution_count": 16,
   "id": "dc1f4b71-df1b-4007-b112-6255a62b8f8b",
   "metadata": {},
   "outputs": [
    {
     "data": {
      "text/plain": [
       "5"
      ]
     },
     "execution_count": 16,
     "metadata": {},
     "output_type": "execute_result"
    }
   ],
   "source": [
    "len(lol_watcher.data_dragon.runes_reforged(DDrune))"
   ]
  },
  {
   "cell_type": "code",
   "execution_count": 17,
   "id": "74811a37-a074-4d80-be8e-bee2310bf200",
   "metadata": {
    "tags": []
   },
   "outputs": [
    {
     "data": {
      "text/plain": [
       "dict_keys(['id', 'key', 'name', 'icon', 'slots'])"
      ]
     },
     "execution_count": 17,
     "metadata": {},
     "output_type": "execute_result"
    }
   ],
   "source": [
    "lol_watcher.data_dragon.runes_reforged(DDrune)[0].keys()"
   ]
  },
  {
   "cell_type": "markdown",
   "id": "07c13dc3-37b8-40d7-8596-f0b5dac0b1d5",
   "metadata": {},
   "source": [
    "Iterate through the list 5 times (length of runes_reforged base api call) first. This gives you each tree. Sorc/Dom/Precision/Imag/Resolve\n",
    "Then go to \"Slots\" key in dictionary\n",
    "Iterate through each to get each row of the runes reforged. (four times)\n",
    "Go to 'Runes' key in dictionary\n",
    "Iterate through list for each rune (needs to be variable as things will change)\n",
    "Update dictionary and insert values into table"
   ]
  },
  {
   "cell_type": "code",
   "execution_count": 18,
   "id": "2944a043-e79b-4436-9e35-20c965454cc1",
   "metadata": {},
   "outputs": [
    {
     "data": {
      "text/plain": [
       "5"
      ]
     },
     "execution_count": 18,
     "metadata": {},
     "output_type": "execute_result"
    }
   ],
   "source": [
    "len(lol_watcher.data_dragon.runes_reforged(DDrune))"
   ]
  },
  {
   "cell_type": "code",
   "execution_count": 19,
   "id": "cb89cb62-b595-4835-8de9-d3a5a65563db",
   "metadata": {
    "tags": []
   },
   "outputs": [
    {
     "data": {
      "text/plain": [
       "5"
      ]
     },
     "execution_count": 19,
     "metadata": {},
     "output_type": "execute_result"
    }
   ],
   "source": [
    "len(lol_watcher.data_dragon.runes_reforged(DDrune)[1])"
   ]
  },
  {
   "cell_type": "code",
   "execution_count": 20,
   "id": "4b6a1e33-518a-4499-8286-eae86e0e4a97",
   "metadata": {
    "collapsed": true,
    "jupyter": {
     "outputs_hidden": true
    },
    "tags": []
   },
   "outputs": [
    {
     "data": {
      "text/plain": [
       "{'id': 8300,\n",
       " 'key': 'Inspiration',\n",
       " 'name': 'Inspiration',\n",
       " 'icon': 'ASSETS/Perks/Styles/7203_Whimsy.dds',\n",
       " 'slots': [{'runes': [{'id': 8326,\n",
       "     'key': 'KSAlchemicalEsoterica',\n",
       "     'name': 'Unsealed Spellbook',\n",
       "     'shortDesc': 'Exchange Summoner Shards at the shop to change your Summoner Spells during game. Your Summoner Spells have reduced cooldowns. <br>',\n",
       "     'longDesc': \"Gain a Summoner Shard at @ShardFirstMinutes@ min and another every @ShardRechargeMinutes@ min after (Max @Maxshards@ shards).<br><br>While near the shop, you can exchange @ShardCost@ Summoner Shard to replace a Summoner Spell with a different one. <br><br>Additionally, your Summoner Spell Cooldowns are reduced by @SummonerCDR.0*100@%.<br><br><rules><i>Smite:</i> Buying Smite won't grant access to Smite items<br>You cannot have two of the same Summoner Spell</rules>\",\n",
       "     'icon': 'ASSETS/Perks/Styles/Inspiration/KSAlchemicalEsoterica/KSAlchemicalEsoterica.dds'},\n",
       "    {'id': 8351,\n",
       "     'key': 'KSGlacialAugment',\n",
       "     'name': 'Glacial Augment',\n",
       "     'shortDesc': 'Your first attack against an enemy champion slows them (per unit cooldown). Slowing champions with active items shoots a freeze ray at them, creating a lingering slow zone.',\n",
       "     'longDesc': 'Basic attacking a champion slows them for @SlowDuration.0@s. The slow increases in strength over its duration.<li><i>Ranged</i>: Ranged attacks slow by up to @SlowAmountBase.0*-100@% - @SlowAmountMax.0*-100@%</li> <li><i>Melee</i>: Melee attacks slow by up to @SlowAmountBaseMelee.0*-100@% - @SlowAmountMaxMelee.0*-100@%</li><br>Slowing a champion with active items shoots a freeze ray through them, freezing the nearby ground for @SlowZoneDuration@s, slowing all units inside by @SlowZoneSlow*-100@%.<br><br>Cooldown: @UnitCDBase@-@UnitCD16@s per unit',\n",
       "     'icon': 'ASSETS/Perks/Styles/Inspiration/KSGlacialAugment/KSGlacialAugment.dds'},\n",
       "    {'id': 8359,\n",
       "     'key': 'KSLooter',\n",
       "     'name': 'Kleptomancy',\n",
       "     'shortDesc': \"After using an ability, your next attack will grant bonus gold if used on a champion. There's a chance you'll also gain a consumable.\",\n",
       "     'longDesc': \"After using an ability, your next attack will grant bonus gold if used on a champion. There's a chance you'll also gain a consumable.\",\n",
       "     'icon': 'ASSETS/Perks/Styles/Inspiration/KSLooter/KSLooter.dds'}]},\n",
       "  {'runes': [{'id': 8306,\n",
       "     'key': 'DontBlink',\n",
       "     'name': 'Hextech Flashtraption',\n",
       "     'shortDesc': 'While Flash is on cooldown it is replaced by <i>Hexflash</i>.<br><br><i>Hexflash</i>: Channel, then blink to a new location.',\n",
       "     'longDesc': 'While Flash is on cooldown it is replaced by <i>Hexflash</i>.<br><br><i>Hexflash</i>: Channel for @ChannelDuration@s to blink to a new location.<br><br>Cooldown: @CooldownTime@s. Goes on a @ChampionCombatCooldown@s cooldown when you enter champion combat.',\n",
       "     'icon': 'ASSETS/Perks/Styles/Inspiration/DontBlink/DontBlink.dds'},\n",
       "    {'id': 8345,\n",
       "     'key': 'BiscuitsAndBonuses',\n",
       "     'name': 'Biscuit Delivery',\n",
       "     'shortDesc': 'Gain a free Biscuit every @BiscuitMinuteInterval@ min, until @SwapOverMinute@ min. Consuming a Biscuit permanently increases your max mana and restores health and mana.',\n",
       "     'longDesc': 'Biscuit Delivery: Gain a {{game_item_displayname_2010}} every @BiscuitMinuteInterval@ mins, until @SwapOverMinute@ min.<br><br>Biscuits restore @HealthHealPercent.0*100@% of your missing health and mana. Consuming any Biscuit increases your mana cap by @PermanentMana@ mana permanently. <br><br><i>Manaless:</i> Champions without mana restore @HealthHealPercentManaless.0*100@% missing health instead.',\n",
       "     'icon': 'ASSETS/Perks/Styles/Inspiration/BiscuitsAndBonuses/BiscuitsAndBonuses.dds'},\n",
       "    {'id': 8313,\n",
       "     'key': 'AllInGoodTime',\n",
       "     'name': 'Perfect Timing',\n",
       "     'shortDesc': 'Gain a free {{game_item_displayname_2420}}. {{game_item_displayname_2420}} has a one time use <lol-uikit-tooltipped-keyword key=\"LinkTooltip_Description_Stasis\">Stasis</lol-uikit-tooltipped-keyword> effect.',\n",
       "     'longDesc': 'Start the game with a {{ game_item_displayname_2419 }} that transforms into a {{ game_item_displayname_2420 }} after @InitialCooldown.0@ min. {{ game_item_displayname_2420 }} has a one time use Stasis effect.<br><br>Reduces the cooldown of {{ game_item_displayname_3157 }}, {{ game_item_displayname_3026 }}, and {{ game_item_displayname_3193 }} by @PercentGAZhonyasCDR.0*100@%.',\n",
       "     'icon': 'ASSETS/Perks/Styles/Style5/AllInGoodTime/AllInGoodTime.dds'}]},\n",
       "  {'runes': [{'id': 8304,\n",
       "     'key': 'MagicalFootwear',\n",
       "     'name': 'Magical Footwear',\n",
       "     'shortDesc': 'You get free boots at @GiveBootsAtMinute@ min but you cannot buy boots before then. Each <lol-uikit-tooltipped-keyword key=\"LinkTooltip_Description_Takedown\">takedown</lol-uikit-tooltipped-keyword> you get makes your boots come @SecondsSoonerPerTakedown@s sooner.',\n",
       "     'longDesc': 'You get free {{game_item_displayname_2422}} at @GiveBootsAtMinute@ min, but you cannot buy boots before then. For each takedown you acquire the boots @SecondsSoonerPerTakedown@s sooner.<br><br>{{game_item_displayname_2422}} give you an additional +@AdditionalMovementSpeed@ Movement Speed and upgrade for 50 gold less.',\n",
       "     'icon': 'ASSETS/Perks/Styles/Inspiration/MagicalFootwear/MagicalFootwear.dds'},\n",
       "    {'id': 8321,\n",
       "     'key': 'NanaTaxman',\n",
       "     'name': \"Future's Market\",\n",
       "     'shortDesc': 'You can enter debt to buy items.',\n",
       "     'longDesc': 'You can enter debt to buy items. The amount you can borrow increases over time.<br><br>Lending Fee: @ExcessCostPenaltyFlat@ gold',\n",
       "     'icon': 'ASSETS/Perks/Styles/Style5/NanaTaxman/NanaTaxman.dds'},\n",
       "    {'id': 8316,\n",
       "     'key': 'TheClearChoice',\n",
       "     'name': 'Minion Dematerializer',\n",
       "     'shortDesc': 'Start the game with @GainedMinionKillers@ {{game_item_displayname_2403}}s. Killing minions with the item gives permanent bonus damage vs. that minion type.',\n",
       "     'longDesc': 'Start the game with @GainedMinionKillers@ {{game_item_displayname_2403}}s that kill and absorb lane minions instantly. {{game_item_displayname_2403}}s are on cooldown for the first @InitialCooldown@s of the game.<br><br>Absorbing a minion increases your damage by +@DamageBonusForAnyAbsorbed.0*100@% against that type of minion permanently, and an extra +@DamageBonusPerAdditionalAbsorbed.0*100@% for each additional minion of that type absorbed.<br>',\n",
       "     'icon': 'ASSETS/Perks/Styles/Inspiration/TheClearChoice/TheClearChoice.dds'}]},\n",
       "  {'runes': [{'id': 8347,\n",
       "     'key': 'Intelligence',\n",
       "     'name': 'Cosmic Insight',\n",
       "     'shortDesc': '+@CDR*100@% <lol-uikit-tooltipped-keyword key=\"LinkTooltip_Description_CDR\">CDR</lol-uikit-tooltipped-keyword><br>+@CDR*100@% Max CDR<br>+@CDR*100@% Summoner Spell CDR<br>+@CDR*100@% Item CDR',\n",
       "     'longDesc': '+@CDR*100@% CDR<br>+@CDR*100@% Max CDR<br>+@CDR*100@% Summoner Spell CDR<br>+@CDR*100@% Item CDR',\n",
       "     'icon': 'ASSETS/Perks/Styles/Inspiration/Intelligence/Intelligence.dds'},\n",
       "    {'id': 8410,\n",
       "     'key': 'HotPursuit',\n",
       "     'name': 'Approach Velocity',\n",
       "     'shortDesc': 'Bonus <lol-uikit-tooltipped-keyword key=\"LinkTooltip_Description_MS\">MS</lol-uikit-tooltipped-keyword> towards nearby ally champions that are <lol-uikit-tooltipped-keyword key=\"LinkTooltip_Description_ImpairMov\">movement impaired</lol-uikit-tooltipped-keyword> or enemy champions that you impair.',\n",
       "     'longDesc': 'Gain @MovementSpeedPercentBonus.0*100@% Movement Speed towards nearby ally champions that are movement impaired or enemy champions that you impair. <br><br>Range: @ActivationDistance@',\n",
       "     'icon': 'ASSETS/Perks/Styles/Resolve/HotPursuit/HotPursuit.dds'},\n",
       "    {'id': 8339,\n",
       "     'key': 'TheThirdPath',\n",
       "     'name': 'Celestial Body',\n",
       "     'shortDesc': '+@HealthBonus@ Health permanently<br>-@ChampionDamagePenalty*100@% damage to champions and monsters until @EndTime@ min',\n",
       "     'longDesc': \"+@HealthBonus@ Health permanently<br>-@ChampionDamagePenalty*100@% damage to champions and monsters until @EndTime@ min<br><br><hr></hr><br><i>'The greatest legends live on in the stars.' <br>—Daphna the Dreamer</i>\",\n",
       "     'icon': 'ASSETS/Perks/Styles/Inspiration/TheThirdPath/TheThirdPath.dds'}]}]}"
      ]
     },
     "execution_count": 20,
     "metadata": {},
     "output_type": "execute_result"
    }
   ],
   "source": [
    "lol_watcher.data_dragon.runes_reforged(DDrune)[1]"
   ]
  },
  {
   "cell_type": "code",
   "execution_count": 23,
   "id": "44077b79-241d-4575-8000-4f1fe1e7fbef",
   "metadata": {},
   "outputs": [
    {
     "name": "stdout",
     "output_type": "stream",
     "text": [
      "Cosmic Insight\n"
     ]
    },
    {
     "data": {
      "text/plain": [
       "8326"
      ]
     },
     "execution_count": 23,
     "metadata": {},
     "output_type": "execute_result"
    }
   ],
   "source": [
    "print(lol_watcher.data_dragon.runes_reforged(DDrune)[1]['slots'][3]['runes'][0]['name'])\n",
    "lol_watcher.data_dragon.runes_reforged(DDrune)[1]['slots'][0]['runes'][0]['id']"
   ]
  },
  {
   "cell_type": "code",
   "execution_count": 22,
   "id": "0e1f828c-117d-4d8c-a290-bf4cc38888d9",
   "metadata": {
    "jupyter": {
     "source_hidden": true
    },
    "tags": []
   },
   "outputs": [],
   "source": [
    "def commit_champ_lov(conn, champions):\n",
    "    with conn.cursor() as curs:\n",
    "        for key in champions:\n",
    "            \n",
    "            vals = lol_watcher.data_dragon.champions(DDchampion)['data'][key]\n",
    "            new_vals = {}\n",
    "            for n in range(len(vals)):\n",
    "                new_vals.update({'champion_id' : vals['key'],\n",
    "                                'champion_name' : vals['name']                                 \n",
    "                                })\n",
    "\n",
    "                \n",
    "                curs.execute('''INSERT INTO \"LOLLOV\".lol_champs \n",
    "                        VALUES (%(champion_id)s, %(champion_name)s)\n",
    "                        ON CONFLICT (champion_id) DO NOTHING\n",
    "                            ;''', new_vals)\n",
    "                            \n",
    "                conn.commit()\n",
    "        print(curs.rowcount, \" LOVs added\")"
   ]
  },
  {
   "cell_type": "code",
   "execution_count": 24,
   "id": "72a4f49c-8d34-4316-9142-cb0a34759868",
   "metadata": {},
   "outputs": [
    {
     "name": "stdout",
     "output_type": "stream",
     "text": [
      "0  LOVs added\n"
     ]
    }
   ],
   "source": [
    "commit_champ_lov(conn, lol_watcher.data_dragon.champions(DDchampion)['data'])"
   ]
  },
  {
   "cell_type": "code",
   "execution_count": 25,
   "id": "1ac0e0b3-b23d-46ee-af5d-d79f6f70fbd0",
   "metadata": {
    "tags": []
   },
   "outputs": [
    {
     "name": "stdout",
     "output_type": "stream",
     "text": [
      "[{'id': 8112, 'key': 'StormlordsMandate', 'name': 'Electrocute', 'shortDesc': 'Hitting a champion with 3 <b>separate</b> attacks or abilities in @WindowDuration@s deals bonus <lol-uikit-tooltipped-keyword key=\"LinkTooltip_Description_AdaptiveDmg\">adaptive damage</lol-uikit-tooltipped-keyword>.', 'longDesc': \"Hitting a champion with 3 <b>separate</b> attacks or abilities within @WindowDuration@s deals bonus <lol-uikit-tooltipped-keyword key='LinkTooltip_Description_AdaptiveDmg'><font color='#48C4B7'>adaptive damage</font></lol-uikit-tooltipped-keyword>.<br><br>Damage: @DamageBase@ - @DamageMax@ (+@BonusADRatio.-1@ bonus AD, +@APRatio.-1@ AP) damage.<br><br>Cooldown: @Cooldown@ - @CooldownMin@s<br><br><hr></hr><i>'We called them the Thunderlords, for to speak of their lightning was to invite disaster.'</i>\", 'icon': 'ASSETS/Perks/Styles/Domination/TLords/TLords.dds'}, {'id': 8124, 'key': 'KSLycanthropy', 'name': 'Predator', 'shortDesc': 'Add an active effect to your boots that grants a large boost of <lol-uikit-tooltipped-keyword key=\"LinkTooltip_Description_MS\">MS</lol-uikit-tooltipped-keyword> and causes your next attack or ability to deal bonus <lol-uikit-tooltipped-keyword key=\"LinkTooltip_Description_AdaptiveDmg\">adaptive damage</lol-uikit-tooltipped-keyword>.', 'longDesc': \"Enchants your boots with the active effect '<font color='#c60300'>{{perk_displayname_KSLycanthropy}}</font>.'<br><br>{{ game_itemmod_bloodmoonboots }}\", 'icon': 'ASSETS/Perks/Styles/Domination/KSLycanthropy/KSLycanthropy.dds'}, {'id': 8128, 'key': 'KSSoulReaper', 'name': 'Dark Harvest', 'shortDesc': 'Champions, large minions, and large monsters drop soul essence on death. Touch souls to absorb them and deal bonus <lol-uikit-tooltipped-keyword key=\"LinkTooltip_Description_AdaptiveDmg\">adaptive damage</lol-uikit-tooltipped-keyword> on your next attack based on total soul essence collected.', 'longDesc': \"Champions, large minions, and large monsters drop soul essence on death. Collect souls to become <font color='#c60300'>Soul Charged</font>. Your next attack on a champion or structure consumes <font color='#c60300'>Soul Charged</font> to deal bonus <lol-uikit-tooltipped-keyword key='LinkTooltip_Description_AdaptiveDmg'><font color='#48C4B7'>adaptive damage</font></lol-uikit-tooltipped-keyword>.<br><br><font color='#c60300'>Soul Charged</font> lasts @ONHDuration@s, increased to @ONHDurationLong@s after collecting @SoulsRequiredForIncreasedDuration@ soul essence.<br><br>Bonus damage: @DamageMin@ - @DamageMax@ (+<scaleAD>@ADRatio.2@ bonus AD</scaleAD>) (+<scaleAP>@APRatio.1@ AP</scaleAP>) + soul essence collected.<br><rules><br>Champions - @champstacks@ soul essence.<br>Monsters - @monsterstacks@ soul essence.<br>Minions - @minionstacks@ soul essence.</rules>\", 'icon': 'ASSETS/Perks/Styles/Domination/KSSoulReaper/KSSoulReaper.dds'}]\n",
      "[{'id': 8126, 'key': 'CheapShot', 'name': 'Cheap Shot', 'shortDesc': 'Deal bonus true damage to enemy champions with <lol-uikit-tooltipped-keyword key=\"LinkTooltip_Description_ImpairAct\">impaired movement or actions</lol-uikit-tooltipped-keyword>. ', 'longDesc': 'Damaging champions with <b>impaired movement or actions</b> deals @DamageIncMin@ - @DamageIncMax@ bonus true damage (based on level).<br><br>Cooldown: @Cooldown@s<br><rules>Activates on damage occurring after the impairment.</rules>', 'icon': 'ASSETS/Perks/Styles/Domination/Bully/Bully.dds'}, {'id': 8139, 'key': 'Feast', 'name': 'Taste of Blood', 'shortDesc': 'Heal when you damage an enemy champion.', 'longDesc': 'Heal when you damage an enemy champion.<br><br>Healing: @HealAmount@-@HealAmountMax@ (+@ADRatio.-1@ bonus AD, +@APRatio.-1@ AP) health (based on level)<br><br>Cooldown: @Cooldown@s', 'icon': 'ASSETS/Perks/Styles/Domination/Feast/GreenTerror_Feast.dds'}, {'id': 8143, 'key': 'DashAttack', 'name': 'Sudden Impact', 'shortDesc': 'Gain a burst of Lethality and Magic Penetration after using a dash, leap, blink, teleport, or when leaving stealth.', 'longDesc': 'After exiting stealth or using a dash, leap, blink, or teleport, dealing any damage to a champion grants you @BonusLethality.0@ Lethality and @BonusMpen.0@ Magic Penetration for @Duration@s.<br><br>Cooldown: @Cooldown@s', 'icon': 'ASSETS/Perks/Styles/Domination/DashAttack/DashAttack.dds'}]\n",
      "[{'id': 8136, 'key': 'ZombieWard', 'name': 'Zombie Ward', 'shortDesc': 'After killing a ward, a friendly Zombie Ward is raised in its place. When your wards expire, they also reanimate as Zombie Wards.', 'longDesc': \"After killing a ward, a friendly Zombie Ward is raised in its place. Additionally, when your wards expire, they reanimate as Zombie Wards.<br><br>Zombie Wards are visible, last for @WardDuration@s and don't count towards your ward limit.\", 'icon': 'ASSETS/Perks/Styles/Domination/ZombieWard/ZombieWard.dds'}, {'id': 8120, 'key': 'ViciousPoro', 'name': 'Ghost Poro', 'shortDesc': 'When you enter brush, a poro appears. It will stay behind to give you vision.', 'longDesc': 'Enter a brush to summon a poro after a brief channel. The poro will stay behind to give you vision until you summon a new one.<br><br>If an enemy enters brush with a poro in it, they scare it away, putting {{ perk_displayname_ViciousPoro }} on a @Cooldown@s cooldown.<br><br>Poro channel is interrupted if you take damage.', 'icon': 'ASSETS/Perks/Styles/Domination/ViciousPoro/ViciousPoro.dds'}, {'id': 8138, 'key': 'WardSlayer', 'name': 'Eyeball Collection', 'shortDesc': 'Collect eyeballs for champion and ward <lol-uikit-tooltipped-keyword key=\"LinkTooltip_Description_Takedown\">takedowns</lol-uikit-tooltipped-keyword>. Gain permanent AD or AP, <lol-uikit-tooltipped-keyword key=\"LinkTooltip_Description_Adaptive\">adaptive</lol-uikit-tooltipped-keyword> for each eyeball plus bonus upon collection completion.', 'longDesc': 'Collect eyeballs for champion and ward takedowns. Gain {{ perk_subtext_AdaptiveForce }}, per eyeball collected. <br><br>Upon completing your collection at @MaxEyeballs@ eyeballs, additionally gain {{ perk_subtext_AdaptiveForce_EyeballCollection }}.<br><br>Collect @StacksPerTakedown@ eyeballs per champion takedown, @StacksPerWard@ eyeball per ward takedown.', 'icon': 'ASSETS/Perks/Styles/Domination/WardSlayer/WardSlayer.dds'}]\n",
      "[{'id': 8135, 'key': 'InsatiableHunter', 'name': 'Ravenous Hunter', 'shortDesc': '<b>Unique</b> <lol-uikit-tooltipped-keyword key=\"LinkTooltip_Description_Takedown\">takedowns</lol-uikit-tooltipped-keyword> grant permanent healing from ability damage. ', 'longDesc': 'Heal for a percentage of the damage dealt by your abilities.<br>Healing: @StartingOmnivamp*100@% + @OmnivampPerStack*100@% per <i>Bounty Hunter</i> stack. <br><br>Earn a <i>Bounty Hunter</i> stack the first time you get a takedown on each enemy champion.<br><rules><br>Healing reduced to one third for Area of Effect abilities.</rules><br>', 'icon': 'ASSETS/Perks/Styles/Domination/InsatiableHunter/InsatiableHunter.dds'}, {'id': 8134, 'key': 'BigGameHunter', 'name': 'Ingenious Hunter', 'shortDesc': '<b>Unique</b> <lol-uikit-tooltipped-keyword key=\"LinkTooltip_Description_Takedown\">takedowns</lol-uikit-tooltipped-keyword> grant permanent Active Item <lol-uikit-tooltipped-keyword key=\"LinkTooltip_Description_CDR\">CDR</lol-uikit-tooltipped-keyword> (includes Trinkets).', 'longDesc': 'Gain @StartingActiveItemCDR.0*100@% <b>Active Item CDR</b> plus an additional @ActiveItemCDRPerStack.0*100@% per <i>Bounty Hunter</i> stack (includes Trinkets).<br><br>Earn a <i>Bounty Hunter</i> stack the first time you get a takedown on each enemy champion.', 'icon': 'ASSETS/Perks/Styles/Domination/BigGameHunter/BigGameHunter.dds'}, {'id': 8105, 'key': 'ProlificHunter', 'name': 'Relentless Hunter', 'shortDesc': '<b>Unique</b> <lol-uikit-tooltipped-keyword key=\"LinkTooltip_Description_Takedown\">takedowns</lol-uikit-tooltipped-keyword> grant permanent <b>out of combat <lol-uikit-tooltipped-keyword key=\"LinkTooltip_Description_MS\">MS</lol-uikit-tooltipped-keyword></b>. ', 'longDesc': 'Gain @StartingOOCMS@ <b>out of combat Movement Speed</b> plus @OOCMS.0@ per <i>Bounty Hunter</i> stack.<br><br>Earn a <i>Bounty Hunter</i> stack the first time you get a takedown on each enemy champion.', 'icon': 'ASSETS/Perks/Styles/Domination/ProlificHunter/ProlificHunter.dds'}]\n"
     ]
    }
   ],
   "source": [
    "DDRegion = lol_watcher.data_dragon.versions_for_region('na1')['n']\n",
    "DDrune = DDRegion['rune']\n",
    "runes = lol_watcher.data_dragon.runes_reforged(DDrune)\n",
    "rows = runes[0]['slots']\n",
    "for row in range(len(rows)):\n",
    "    runes = rows[row]['runes']\n",
    "    print(runes)"
   ]
  },
  {
   "cell_type": "code",
   "execution_count": 28,
   "id": "9be74d19-cac9-47b6-b039-53b648df4236",
   "metadata": {
    "tags": []
   },
   "outputs": [
    {
     "data": {
      "text/plain": [
       "[{'runes': [{'id': 8005,\n",
       "    'key': 'PressThreeAttacks',\n",
       "    'name': 'Press the Attack',\n",
       "    'shortDesc': 'Hitting an enemy champion @HitsRequired@ consecutive times makes them vulnerable, dealing bonus damage and causing them to take more damage from all sources for @AmpDuration@s.',\n",
       "    'longDesc': \"Hitting an enemy champion with @HitsRequired@ consecutive basic attacks deals @MinDamage@ - @MaxDamage@ bonus <lol-uikit-tooltipped-keyword key='LinkTooltip_Description_AdaptiveDmg'><font color='#48C4B7'>adaptive damage</font></lol-uikit-tooltipped-keyword> (based on level) and makes them vulnerable, increasing the damage they take by @AmpPotencySelf.0*100@% from all sources for @AmpDuration@s.\",\n",
       "    'icon': 'ASSETS/Perks/Styles/Precision/PressThreeAttacks/PressThreeAttacks.dds'},\n",
       "   {'id': 8008,\n",
       "    'key': 'Berserk',\n",
       "    'name': 'Lethal Tempo',\n",
       "    'shortDesc': '@LeadInDelay.1@s after damaging a champion gain a large amount of Attack Speed. Lethal Tempo allows you to temporarily exceed the attack speed limit.',\n",
       "    'longDesc': '@LeadInDelay.1@s after damaging a champion gain @AttackSpeedMin*100@ - @AttackSpeedMax*100@% Attack Speed (based on level) for @AttackSpeedBuffDurationMin@s. Attacking a champion extends the effect to @AttackSpeedBuffDurationMax@s.<br><br>Cooldown: @Cooldown@s<br><br>{{perk_displayname_FlowofBattle}} allows you to temporarily exceed the attack speed limit.',\n",
       "    'icon': 'ASSETS/Perks/Styles/Precision/FlowofBattle/FlowofBattleTemp.dds'},\n",
       "   {'id': 8021,\n",
       "    'key': 'KSFleetFootwork',\n",
       "    'name': 'Fleet Footwork',\n",
       "    'shortDesc': 'Attacking and moving builds Energy stacks. At 100 stacks, your next attack heals you and grants increased <lol-uikit-tooltipped-keyword key=\"LinkTooltip_Description_MS\">MS</lol-uikit-tooltipped-keyword>.',\n",
       "    'longDesc': 'Attacking and moving builds Energy stacks. At 100 stacks, your next attack is Energized.<br><br>Energized attacks heal you for @HealBase@ - @HealMax@ (+@HealBonusADRatio.-1@ Bonus AD, +@HealAPRatio.-1@ AP) and grant +@MSBuff*100@% Movement Speed for @MSDuration.0@s.<br><rules>Healing is @MinionHealMod*100@% as effective when used on a minion.</rules>',\n",
       "    'icon': 'ASSETS/Perks/Styles/Precision/KSFleetFootwork/KSFleetFootwork.dds'}]},\n",
       " {'runes': [{'id': 9101,\n",
       "    'key': 'Overheal',\n",
       "    'name': 'Overheal',\n",
       "    'shortDesc': 'Excess healing on you becomes a shield.',\n",
       "    'longDesc': 'Excess healing on you becomes a shield, for up to @ShieldCapRatio.0*100@% of your total health + @MaxBaseShieldCap@.<br><br>Shield is built up from @ShieldGenerationRateSelf.0*100@% of excess self-healing, or @ShieldGenerationRateOtherMax.0*100@% of excess healing from allies.',\n",
       "    'icon': 'ASSETS/Perks/Styles/Precision/Overheal.dds'},\n",
       "   {'id': 9111,\n",
       "    'key': 'AdrenalineRush',\n",
       "    'name': 'Triumph',\n",
       "    'shortDesc': '<lol-uikit-tooltipped-keyword key=\"LinkTooltip_Description_Takedown\">Takedowns</lol-uikit-tooltipped-keyword> restore @MissingHealthRestored.0*100@% of your missing health and grant an additional @BonusGold@ gold. ',\n",
       "    'longDesc': \"Takedowns restore @MissingHealthRestored.0*100@% of your missing health and grant an additional @BonusGold@ gold. <br><br><hr></hr><br><i>'The most dangerous game brings the greatest glory.' <br>—Noxian Reckoner</i>\",\n",
       "    'icon': 'ASSETS/Perks/Styles/Precision/DangerousGame.dds'},\n",
       "   {'id': 8009,\n",
       "    'key': 'CastOnKill',\n",
       "    'name': 'Presence of Mind',\n",
       "    'shortDesc': 'For @BuffDuration@s after gaining a level or takedown any mana you spend is fully restored.',\n",
       "    'longDesc': 'For @BuffDuration@s after gaining a level or takedown any mana you spend is fully restored.',\n",
       "    'icon': 'ASSETS/Perks/Styles/Precision/LastResort/LastResortIcon.dds'}]},\n",
       " {'runes': [{'id': 9104,\n",
       "    'key': 'LegendDauntless',\n",
       "    'name': 'Legend: Alacrity',\n",
       "    'shortDesc': '<lol-uikit-tooltipped-keyword key=\"LinkTooltip_Description_Takedown\">Takedowns</lol-uikit-tooltipped-keyword> on enemies grant permanent <b>Attack Speed</b>. ',\n",
       "    'longDesc': 'Gain @AttackSpeedBase*100@% attack speed plus an additional @AttackSpeedPerStack*100@% for every <i>Legend</i> stack (max @MaxLegendStacks@ stacks).<br><br>Earn progress toward <i>Legend</i> stacks for every champion takedown, epic monster takedown, large monster kill, and minion kill.',\n",
       "    'icon': 'ASSETS/Perks/Styles/Precision/Legend_Heroism.dds'},\n",
       "   {'id': 9105,\n",
       "    'key': 'LegendTenacity',\n",
       "    'name': 'Legend: Tenacity',\n",
       "    'shortDesc': '<lol-uikit-tooltipped-keyword key=\"LinkTooltip_Description_Takedown\">Takedowns</lol-uikit-tooltipped-keyword> on enemies grant permanent <b>Tenacity</b>. ',\n",
       "    'longDesc': 'Gain @TenacityBase*100@% tenacity plus an additional @TenacityPerStack*100@% for every <i>Legend</i> stack (max @MaxLegendStacks@ stacks).<br><br>Earn progress toward <i>Legend</i> stacks for every champion takedown, epic monster takedown, large monster kill, and minion kill.',\n",
       "    'icon': 'ASSETS/Perks/Styles/Precision/Legend_Tenacity.dds'},\n",
       "   {'id': 9103,\n",
       "    'key': 'LegendInfamy',\n",
       "    'name': 'Legend: Bloodline',\n",
       "    'shortDesc': '<lol-uikit-tooltipped-keyword key=\"LinkTooltip_Description_Takedown\">Takedowns</lol-uikit-tooltipped-keyword> on enemies grant permanent<b> Lifesteal</b>. ',\n",
       "    'longDesc': 'Gain @LifeStealPerStack*100@% life steal for every <i>Legend</i> stack (max @MaxLegendStacks@ stacks).<br><br>Earn progress toward <i>Legend</i> stacks for every champion takedown, epic monster takedown, large monster kill, and minion kill.',\n",
       "    'icon': 'ASSETS/Perks/Styles/Precision/Legend_Infamy.dds'}]},\n",
       " {'runes': [{'id': 8014,\n",
       "    'key': 'CoupDeGrace',\n",
       "    'name': 'Coup de Grace',\n",
       "    'shortDesc': 'Deal more damage to low health enemy champions.',\n",
       "    'longDesc': 'Deal @BonusPercentDamage.0 *100@% more damage to champions who have less than @EnemyHealthPercentageThreshold*100@% health.<br><br>Additionally, takedowns on champions grant {{ perk_subtext_AdaptiveForce }} for @Duration@s.',\n",
       "    'icon': 'ASSETS/Perks/Styles/Precision/CoupDeGrace/CoupDeGrace.dds'},\n",
       "   {'id': 8017,\n",
       "    'key': 'GiantSlayer',\n",
       "    'name': 'Cut Down',\n",
       "    'shortDesc': 'Deal more damage to champions with more max health than you.',\n",
       "    'longDesc': 'Deal @MinBonusDamagePercent.0*100@% more damage to champions with @MinHealthDifference@ more max health than you, increasing to @MaxBonusDamagePercent.0*100@% at @MaxHealthDifference@ more max health.',\n",
       "    'icon': 'ASSETS/Perks/Styles/Precision/GiantSlayer/GiantSlayer.dds'},\n",
       "   {'id': 8299,\n",
       "    'key': 'ToTheDeath',\n",
       "    'name': 'Last Stand',\n",
       "    'shortDesc': 'Deal more damage to champions while you are low on health.',\n",
       "    'longDesc': 'Deal @MinBonusDamagePercent.0*100@% - @MaxBonusDamagePercent.0*100@% increased damage to champions while you are below @HealthThresholdStart.0*100@% health. Max damage gained at @HealthThresholdEnd.0*100@% health.',\n",
       "    'icon': 'ASSETS/Perks/Styles/Sorcery/ToTheDeath/ToTheDeath.dds'}]}]"
      ]
     },
     "execution_count": 28,
     "metadata": {},
     "output_type": "execute_result"
    }
   ],
   "source": [
    "DDRegion = lol_watcher.data_dragon.versions_for_region('na1')['n']\n",
    "DDrune = DDRegion['rune']\n",
    "runes = lol_watcher.data_dragon.runes_reforged(DDrune)\n",
    "runes[2]['slots']\n"
   ]
  },
  {
   "cell_type": "code",
   "execution_count": 29,
   "id": "d8733ca8-60e2-49f8-a61c-c7517430229e",
   "metadata": {
    "tags": []
   },
   "outputs": [
    {
     "ename": "NameError",
     "evalue": "name 'rune_trees' is not defined",
     "output_type": "error",
     "traceback": [
      "\u001b[1;31m---------------------------------------------------------------------------\u001b[0m",
      "\u001b[1;31mNameError\u001b[0m                                 Traceback (most recent call last)",
      "Input \u001b[1;32mIn [29]\u001b[0m, in \u001b[0;36m<cell line: 1>\u001b[1;34m()\u001b[0m\n\u001b[1;32m----> 1\u001b[0m \u001b[38;5;28;01mfor\u001b[39;00m i, l \u001b[38;5;129;01min\u001b[39;00m \u001b[38;5;28menumerate\u001b[39m(\u001b[43mrune_trees\u001b[49m):\n\u001b[0;32m      2\u001b[0m     \u001b[38;5;28mprint\u001b[39m(rune_trees[\u001b[38;5;124m'\u001b[39m\u001b[38;5;124mslots\u001b[39m\u001b[38;5;124m'\u001b[39m])\n",
      "\u001b[1;31mNameError\u001b[0m: name 'rune_trees' is not defined"
     ]
    }
   ],
   "source": [
    "for i, l in enumerate(rune_trees):\n",
    "    print(rune_trees['slots'])"
   ]
  },
  {
   "cell_type": "code",
   "execution_count": 30,
   "id": "57069eb7-deae-4b1e-a69e-0d2e49c44b05",
   "metadata": {
    "collapsed": true,
    "jupyter": {
     "outputs_hidden": true
    },
    "tags": []
   },
   "outputs": [
    {
     "name": "stdout",
     "output_type": "stream",
     "text": [
      "0\n",
      "1\n",
      "2\n",
      "3\n",
      "4\n",
      "5\n",
      "6\n",
      "7\n",
      "8\n",
      "9\n",
      "0\n",
      "1\n",
      "2\n",
      "3\n",
      "4\n",
      "5\n",
      "6\n",
      "7\n",
      "8\n",
      "9\n",
      "10\n",
      "0\n",
      "1\n",
      "2\n",
      "3\n",
      "4\n",
      "5\n",
      "6\n",
      "7\n",
      "8\n",
      "0\n",
      "1\n",
      "2\n",
      "3\n",
      "4\n",
      "5\n",
      "6\n",
      "0\n",
      "1\n",
      "2\n",
      "3\n",
      "4\n",
      "5\n",
      "6\n"
     ]
    }
   ],
   "source": [
    "for n, i in enumerate(runes):\n",
    "    rune_trees = runes[n]\n",
    "    for l, k in enumerate(rune_trees['key']):\n",
    "        print(l)"
   ]
  },
  {
   "cell_type": "code",
   "execution_count": null,
   "id": "bc074899-0de8-41b9-bc69-27aaaf755ad8",
   "metadata": {
    "tags": []
   },
   "outputs": [],
   "source": [
    "DDRegion = lol_watcher.data_dragon.versions_for_region('na1')['n']\n",
    "DDrune = DDRegion['rune']\n",
    "runes = lol_watcher.data_dragon.runes_reforged(DDrune)\n",
    "\n",
    "runes[0]['key']\n",
    "\n"
   ]
  },
  {
   "cell_type": "code",
   "execution_count": 31,
   "id": "5e1f30b4-a18f-4c97-94c6-f01ab04e1055",
   "metadata": {
    "tags": []
   },
   "outputs": [
    {
     "name": "stdout",
     "output_type": "stream",
     "text": [
      "0\n",
      "Domination\n",
      "1\n",
      "Inspiration\n",
      "2\n",
      "Precision\n",
      "3\n",
      "Resolve\n",
      "4\n",
      "Sorcery\n"
     ]
    }
   ],
   "source": [
    "DDRegion = lol_watcher.data_dragon.versions_for_region('na1')['n']\n",
    "DDrune = DDRegion['rune']\n",
    "runes = lol_watcher.data_dragon.runes_reforged(DDrune)\n",
    "for n in range(len(runes)):\n",
    "    print(n)\n",
    "    mastery_tree = runes[n]['key']\n",
    "    print(mastery_tree)"
   ]
  },
  {
   "cell_type": "code",
   "execution_count": 32,
   "id": "1c8e3e4e-7d2a-490c-81e1-9b783b9c8e22",
   "metadata": {
    "collapsed": true,
    "jupyter": {
     "outputs_hidden": true
    },
    "tags": []
   },
   "outputs": [
    {
     "name": "stdout",
     "output_type": "stream",
     "text": [
      "[{'runes': [{'id': 8112, 'key': 'StormlordsMandate', 'name': 'Electrocute', 'shortDesc': 'Hitting a champion with 3 <b>separate</b> attacks or abilities in @WindowDuration@s deals bonus <lol-uikit-tooltipped-keyword key=\"LinkTooltip_Description_AdaptiveDmg\">adaptive damage</lol-uikit-tooltipped-keyword>.', 'longDesc': \"Hitting a champion with 3 <b>separate</b> attacks or abilities within @WindowDuration@s deals bonus <lol-uikit-tooltipped-keyword key='LinkTooltip_Description_AdaptiveDmg'><font color='#48C4B7'>adaptive damage</font></lol-uikit-tooltipped-keyword>.<br><br>Damage: @DamageBase@ - @DamageMax@ (+@BonusADRatio.-1@ bonus AD, +@APRatio.-1@ AP) damage.<br><br>Cooldown: @Cooldown@ - @CooldownMin@s<br><br><hr></hr><i>'We called them the Thunderlords, for to speak of their lightning was to invite disaster.'</i>\", 'icon': 'ASSETS/Perks/Styles/Domination/TLords/TLords.dds'}, {'id': 8124, 'key': 'KSLycanthropy', 'name': 'Predator', 'shortDesc': 'Add an active effect to your boots that grants a large boost of <lol-uikit-tooltipped-keyword key=\"LinkTooltip_Description_MS\">MS</lol-uikit-tooltipped-keyword> and causes your next attack or ability to deal bonus <lol-uikit-tooltipped-keyword key=\"LinkTooltip_Description_AdaptiveDmg\">adaptive damage</lol-uikit-tooltipped-keyword>.', 'longDesc': \"Enchants your boots with the active effect '<font color='#c60300'>{{perk_displayname_KSLycanthropy}}</font>.'<br><br>{{ game_itemmod_bloodmoonboots }}\", 'icon': 'ASSETS/Perks/Styles/Domination/KSLycanthropy/KSLycanthropy.dds'}, {'id': 8128, 'key': 'KSSoulReaper', 'name': 'Dark Harvest', 'shortDesc': 'Champions, large minions, and large monsters drop soul essence on death. Touch souls to absorb them and deal bonus <lol-uikit-tooltipped-keyword key=\"LinkTooltip_Description_AdaptiveDmg\">adaptive damage</lol-uikit-tooltipped-keyword> on your next attack based on total soul essence collected.', 'longDesc': \"Champions, large minions, and large monsters drop soul essence on death. Collect souls to become <font color='#c60300'>Soul Charged</font>. Your next attack on a champion or structure consumes <font color='#c60300'>Soul Charged</font> to deal bonus <lol-uikit-tooltipped-keyword key='LinkTooltip_Description_AdaptiveDmg'><font color='#48C4B7'>adaptive damage</font></lol-uikit-tooltipped-keyword>.<br><br><font color='#c60300'>Soul Charged</font> lasts @ONHDuration@s, increased to @ONHDurationLong@s after collecting @SoulsRequiredForIncreasedDuration@ soul essence.<br><br>Bonus damage: @DamageMin@ - @DamageMax@ (+<scaleAD>@ADRatio.2@ bonus AD</scaleAD>) (+<scaleAP>@APRatio.1@ AP</scaleAP>) + soul essence collected.<br><rules><br>Champions - @champstacks@ soul essence.<br>Monsters - @monsterstacks@ soul essence.<br>Minions - @minionstacks@ soul essence.</rules>\", 'icon': 'ASSETS/Perks/Styles/Domination/KSSoulReaper/KSSoulReaper.dds'}]}, {'runes': [{'id': 8126, 'key': 'CheapShot', 'name': 'Cheap Shot', 'shortDesc': 'Deal bonus true damage to enemy champions with <lol-uikit-tooltipped-keyword key=\"LinkTooltip_Description_ImpairAct\">impaired movement or actions</lol-uikit-tooltipped-keyword>. ', 'longDesc': 'Damaging champions with <b>impaired movement or actions</b> deals @DamageIncMin@ - @DamageIncMax@ bonus true damage (based on level).<br><br>Cooldown: @Cooldown@s<br><rules>Activates on damage occurring after the impairment.</rules>', 'icon': 'ASSETS/Perks/Styles/Domination/Bully/Bully.dds'}, {'id': 8139, 'key': 'Feast', 'name': 'Taste of Blood', 'shortDesc': 'Heal when you damage an enemy champion.', 'longDesc': 'Heal when you damage an enemy champion.<br><br>Healing: @HealAmount@-@HealAmountMax@ (+@ADRatio.-1@ bonus AD, +@APRatio.-1@ AP) health (based on level)<br><br>Cooldown: @Cooldown@s', 'icon': 'ASSETS/Perks/Styles/Domination/Feast/GreenTerror_Feast.dds'}, {'id': 8143, 'key': 'DashAttack', 'name': 'Sudden Impact', 'shortDesc': 'Gain a burst of Lethality and Magic Penetration after using a dash, leap, blink, teleport, or when leaving stealth.', 'longDesc': 'After exiting stealth or using a dash, leap, blink, or teleport, dealing any damage to a champion grants you @BonusLethality.0@ Lethality and @BonusMpen.0@ Magic Penetration for @Duration@s.<br><br>Cooldown: @Cooldown@s', 'icon': 'ASSETS/Perks/Styles/Domination/DashAttack/DashAttack.dds'}]}, {'runes': [{'id': 8136, 'key': 'ZombieWard', 'name': 'Zombie Ward', 'shortDesc': 'After killing a ward, a friendly Zombie Ward is raised in its place. When your wards expire, they also reanimate as Zombie Wards.', 'longDesc': \"After killing a ward, a friendly Zombie Ward is raised in its place. Additionally, when your wards expire, they reanimate as Zombie Wards.<br><br>Zombie Wards are visible, last for @WardDuration@s and don't count towards your ward limit.\", 'icon': 'ASSETS/Perks/Styles/Domination/ZombieWard/ZombieWard.dds'}, {'id': 8120, 'key': 'ViciousPoro', 'name': 'Ghost Poro', 'shortDesc': 'When you enter brush, a poro appears. It will stay behind to give you vision.', 'longDesc': 'Enter a brush to summon a poro after a brief channel. The poro will stay behind to give you vision until you summon a new one.<br><br>If an enemy enters brush with a poro in it, they scare it away, putting {{ perk_displayname_ViciousPoro }} on a @Cooldown@s cooldown.<br><br>Poro channel is interrupted if you take damage.', 'icon': 'ASSETS/Perks/Styles/Domination/ViciousPoro/ViciousPoro.dds'}, {'id': 8138, 'key': 'WardSlayer', 'name': 'Eyeball Collection', 'shortDesc': 'Collect eyeballs for champion and ward <lol-uikit-tooltipped-keyword key=\"LinkTooltip_Description_Takedown\">takedowns</lol-uikit-tooltipped-keyword>. Gain permanent AD or AP, <lol-uikit-tooltipped-keyword key=\"LinkTooltip_Description_Adaptive\">adaptive</lol-uikit-tooltipped-keyword> for each eyeball plus bonus upon collection completion.', 'longDesc': 'Collect eyeballs for champion and ward takedowns. Gain {{ perk_subtext_AdaptiveForce }}, per eyeball collected. <br><br>Upon completing your collection at @MaxEyeballs@ eyeballs, additionally gain {{ perk_subtext_AdaptiveForce_EyeballCollection }}.<br><br>Collect @StacksPerTakedown@ eyeballs per champion takedown, @StacksPerWard@ eyeball per ward takedown.', 'icon': 'ASSETS/Perks/Styles/Domination/WardSlayer/WardSlayer.dds'}]}, {'runes': [{'id': 8135, 'key': 'InsatiableHunter', 'name': 'Ravenous Hunter', 'shortDesc': '<b>Unique</b> <lol-uikit-tooltipped-keyword key=\"LinkTooltip_Description_Takedown\">takedowns</lol-uikit-tooltipped-keyword> grant permanent healing from ability damage. ', 'longDesc': 'Heal for a percentage of the damage dealt by your abilities.<br>Healing: @StartingOmnivamp*100@% + @OmnivampPerStack*100@% per <i>Bounty Hunter</i> stack. <br><br>Earn a <i>Bounty Hunter</i> stack the first time you get a takedown on each enemy champion.<br><rules><br>Healing reduced to one third for Area of Effect abilities.</rules><br>', 'icon': 'ASSETS/Perks/Styles/Domination/InsatiableHunter/InsatiableHunter.dds'}, {'id': 8134, 'key': 'BigGameHunter', 'name': 'Ingenious Hunter', 'shortDesc': '<b>Unique</b> <lol-uikit-tooltipped-keyword key=\"LinkTooltip_Description_Takedown\">takedowns</lol-uikit-tooltipped-keyword> grant permanent Active Item <lol-uikit-tooltipped-keyword key=\"LinkTooltip_Description_CDR\">CDR</lol-uikit-tooltipped-keyword> (includes Trinkets).', 'longDesc': 'Gain @StartingActiveItemCDR.0*100@% <b>Active Item CDR</b> plus an additional @ActiveItemCDRPerStack.0*100@% per <i>Bounty Hunter</i> stack (includes Trinkets).<br><br>Earn a <i>Bounty Hunter</i> stack the first time you get a takedown on each enemy champion.', 'icon': 'ASSETS/Perks/Styles/Domination/BigGameHunter/BigGameHunter.dds'}, {'id': 8105, 'key': 'ProlificHunter', 'name': 'Relentless Hunter', 'shortDesc': '<b>Unique</b> <lol-uikit-tooltipped-keyword key=\"LinkTooltip_Description_Takedown\">takedowns</lol-uikit-tooltipped-keyword> grant permanent <b>out of combat <lol-uikit-tooltipped-keyword key=\"LinkTooltip_Description_MS\">MS</lol-uikit-tooltipped-keyword></b>. ', 'longDesc': 'Gain @StartingOOCMS@ <b>out of combat Movement Speed</b> plus @OOCMS.0@ per <i>Bounty Hunter</i> stack.<br><br>Earn a <i>Bounty Hunter</i> stack the first time you get a takedown on each enemy champion.', 'icon': 'ASSETS/Perks/Styles/Domination/ProlificHunter/ProlificHunter.dds'}]}]\n",
      "[{'runes': [{'id': 8326, 'key': 'KSAlchemicalEsoterica', 'name': 'Unsealed Spellbook', 'shortDesc': 'Exchange Summoner Shards at the shop to change your Summoner Spells during game. Your Summoner Spells have reduced cooldowns. <br>', 'longDesc': \"Gain a Summoner Shard at @ShardFirstMinutes@ min and another every @ShardRechargeMinutes@ min after (Max @Maxshards@ shards).<br><br>While near the shop, you can exchange @ShardCost@ Summoner Shard to replace a Summoner Spell with a different one. <br><br>Additionally, your Summoner Spell Cooldowns are reduced by @SummonerCDR.0*100@%.<br><br><rules><i>Smite:</i> Buying Smite won't grant access to Smite items<br>You cannot have two of the same Summoner Spell</rules>\", 'icon': 'ASSETS/Perks/Styles/Inspiration/KSAlchemicalEsoterica/KSAlchemicalEsoterica.dds'}, {'id': 8351, 'key': 'KSGlacialAugment', 'name': 'Glacial Augment', 'shortDesc': 'Your first attack against an enemy champion slows them (per unit cooldown). Slowing champions with active items shoots a freeze ray at them, creating a lingering slow zone.', 'longDesc': 'Basic attacking a champion slows them for @SlowDuration.0@s. The slow increases in strength over its duration.<li><i>Ranged</i>: Ranged attacks slow by up to @SlowAmountBase.0*-100@% - @SlowAmountMax.0*-100@%</li> <li><i>Melee</i>: Melee attacks slow by up to @SlowAmountBaseMelee.0*-100@% - @SlowAmountMaxMelee.0*-100@%</li><br>Slowing a champion with active items shoots a freeze ray through them, freezing the nearby ground for @SlowZoneDuration@s, slowing all units inside by @SlowZoneSlow*-100@%.<br><br>Cooldown: @UnitCDBase@-@UnitCD16@s per unit', 'icon': 'ASSETS/Perks/Styles/Inspiration/KSGlacialAugment/KSGlacialAugment.dds'}, {'id': 8359, 'key': 'KSLooter', 'name': 'Kleptomancy', 'shortDesc': \"After using an ability, your next attack will grant bonus gold if used on a champion. There's a chance you'll also gain a consumable.\", 'longDesc': \"After using an ability, your next attack will grant bonus gold if used on a champion. There's a chance you'll also gain a consumable.\", 'icon': 'ASSETS/Perks/Styles/Inspiration/KSLooter/KSLooter.dds'}]}, {'runes': [{'id': 8306, 'key': 'DontBlink', 'name': 'Hextech Flashtraption', 'shortDesc': 'While Flash is on cooldown it is replaced by <i>Hexflash</i>.<br><br><i>Hexflash</i>: Channel, then blink to a new location.', 'longDesc': 'While Flash is on cooldown it is replaced by <i>Hexflash</i>.<br><br><i>Hexflash</i>: Channel for @ChannelDuration@s to blink to a new location.<br><br>Cooldown: @CooldownTime@s. Goes on a @ChampionCombatCooldown@s cooldown when you enter champion combat.', 'icon': 'ASSETS/Perks/Styles/Inspiration/DontBlink/DontBlink.dds'}, {'id': 8345, 'key': 'BiscuitsAndBonuses', 'name': 'Biscuit Delivery', 'shortDesc': 'Gain a free Biscuit every @BiscuitMinuteInterval@ min, until @SwapOverMinute@ min. Consuming a Biscuit permanently increases your max mana and restores health and mana.', 'longDesc': 'Biscuit Delivery: Gain a {{game_item_displayname_2010}} every @BiscuitMinuteInterval@ mins, until @SwapOverMinute@ min.<br><br>Biscuits restore @HealthHealPercent.0*100@% of your missing health and mana. Consuming any Biscuit increases your mana cap by @PermanentMana@ mana permanently. <br><br><i>Manaless:</i> Champions without mana restore @HealthHealPercentManaless.0*100@% missing health instead.', 'icon': 'ASSETS/Perks/Styles/Inspiration/BiscuitsAndBonuses/BiscuitsAndBonuses.dds'}, {'id': 8313, 'key': 'AllInGoodTime', 'name': 'Perfect Timing', 'shortDesc': 'Gain a free {{game_item_displayname_2420}}. {{game_item_displayname_2420}} has a one time use <lol-uikit-tooltipped-keyword key=\"LinkTooltip_Description_Stasis\">Stasis</lol-uikit-tooltipped-keyword> effect.', 'longDesc': 'Start the game with a {{ game_item_displayname_2419 }} that transforms into a {{ game_item_displayname_2420 }} after @InitialCooldown.0@ min. {{ game_item_displayname_2420 }} has a one time use Stasis effect.<br><br>Reduces the cooldown of {{ game_item_displayname_3157 }}, {{ game_item_displayname_3026 }}, and {{ game_item_displayname_3193 }} by @PercentGAZhonyasCDR.0*100@%.', 'icon': 'ASSETS/Perks/Styles/Style5/AllInGoodTime/AllInGoodTime.dds'}]}, {'runes': [{'id': 8304, 'key': 'MagicalFootwear', 'name': 'Magical Footwear', 'shortDesc': 'You get free boots at @GiveBootsAtMinute@ min but you cannot buy boots before then. Each <lol-uikit-tooltipped-keyword key=\"LinkTooltip_Description_Takedown\">takedown</lol-uikit-tooltipped-keyword> you get makes your boots come @SecondsSoonerPerTakedown@s sooner.', 'longDesc': 'You get free {{game_item_displayname_2422}} at @GiveBootsAtMinute@ min, but you cannot buy boots before then. For each takedown you acquire the boots @SecondsSoonerPerTakedown@s sooner.<br><br>{{game_item_displayname_2422}} give you an additional +@AdditionalMovementSpeed@ Movement Speed and upgrade for 50 gold less.', 'icon': 'ASSETS/Perks/Styles/Inspiration/MagicalFootwear/MagicalFootwear.dds'}, {'id': 8321, 'key': 'NanaTaxman', 'name': \"Future's Market\", 'shortDesc': 'You can enter debt to buy items.', 'longDesc': 'You can enter debt to buy items. The amount you can borrow increases over time.<br><br>Lending Fee: @ExcessCostPenaltyFlat@ gold', 'icon': 'ASSETS/Perks/Styles/Style5/NanaTaxman/NanaTaxman.dds'}, {'id': 8316, 'key': 'TheClearChoice', 'name': 'Minion Dematerializer', 'shortDesc': 'Start the game with @GainedMinionKillers@ {{game_item_displayname_2403}}s. Killing minions with the item gives permanent bonus damage vs. that minion type.', 'longDesc': 'Start the game with @GainedMinionKillers@ {{game_item_displayname_2403}}s that kill and absorb lane minions instantly. {{game_item_displayname_2403}}s are on cooldown for the first @InitialCooldown@s of the game.<br><br>Absorbing a minion increases your damage by +@DamageBonusForAnyAbsorbed.0*100@% against that type of minion permanently, and an extra +@DamageBonusPerAdditionalAbsorbed.0*100@% for each additional minion of that type absorbed.<br>', 'icon': 'ASSETS/Perks/Styles/Inspiration/TheClearChoice/TheClearChoice.dds'}]}, {'runes': [{'id': 8347, 'key': 'Intelligence', 'name': 'Cosmic Insight', 'shortDesc': '+@CDR*100@% <lol-uikit-tooltipped-keyword key=\"LinkTooltip_Description_CDR\">CDR</lol-uikit-tooltipped-keyword><br>+@CDR*100@% Max CDR<br>+@CDR*100@% Summoner Spell CDR<br>+@CDR*100@% Item CDR', 'longDesc': '+@CDR*100@% CDR<br>+@CDR*100@% Max CDR<br>+@CDR*100@% Summoner Spell CDR<br>+@CDR*100@% Item CDR', 'icon': 'ASSETS/Perks/Styles/Inspiration/Intelligence/Intelligence.dds'}, {'id': 8410, 'key': 'HotPursuit', 'name': 'Approach Velocity', 'shortDesc': 'Bonus <lol-uikit-tooltipped-keyword key=\"LinkTooltip_Description_MS\">MS</lol-uikit-tooltipped-keyword> towards nearby ally champions that are <lol-uikit-tooltipped-keyword key=\"LinkTooltip_Description_ImpairMov\">movement impaired</lol-uikit-tooltipped-keyword> or enemy champions that you impair.', 'longDesc': 'Gain @MovementSpeedPercentBonus.0*100@% Movement Speed towards nearby ally champions that are movement impaired or enemy champions that you impair. <br><br>Range: @ActivationDistance@', 'icon': 'ASSETS/Perks/Styles/Resolve/HotPursuit/HotPursuit.dds'}, {'id': 8339, 'key': 'TheThirdPath', 'name': 'Celestial Body', 'shortDesc': '+@HealthBonus@ Health permanently<br>-@ChampionDamagePenalty*100@% damage to champions and monsters until @EndTime@ min', 'longDesc': \"+@HealthBonus@ Health permanently<br>-@ChampionDamagePenalty*100@% damage to champions and monsters until @EndTime@ min<br><br><hr></hr><br><i>'The greatest legends live on in the stars.' <br>—Daphna the Dreamer</i>\", 'icon': 'ASSETS/Perks/Styles/Inspiration/TheThirdPath/TheThirdPath.dds'}]}]\n",
      "[{'runes': [{'id': 8005, 'key': 'PressThreeAttacks', 'name': 'Press the Attack', 'shortDesc': 'Hitting an enemy champion @HitsRequired@ consecutive times makes them vulnerable, dealing bonus damage and causing them to take more damage from all sources for @AmpDuration@s.', 'longDesc': \"Hitting an enemy champion with @HitsRequired@ consecutive basic attacks deals @MinDamage@ - @MaxDamage@ bonus <lol-uikit-tooltipped-keyword key='LinkTooltip_Description_AdaptiveDmg'><font color='#48C4B7'>adaptive damage</font></lol-uikit-tooltipped-keyword> (based on level) and makes them vulnerable, increasing the damage they take by @AmpPotencySelf.0*100@% from all sources for @AmpDuration@s.\", 'icon': 'ASSETS/Perks/Styles/Precision/PressThreeAttacks/PressThreeAttacks.dds'}, {'id': 8008, 'key': 'Berserk', 'name': 'Lethal Tempo', 'shortDesc': '@LeadInDelay.1@s after damaging a champion gain a large amount of Attack Speed. Lethal Tempo allows you to temporarily exceed the attack speed limit.', 'longDesc': '@LeadInDelay.1@s after damaging a champion gain @AttackSpeedMin*100@ - @AttackSpeedMax*100@% Attack Speed (based on level) for @AttackSpeedBuffDurationMin@s. Attacking a champion extends the effect to @AttackSpeedBuffDurationMax@s.<br><br>Cooldown: @Cooldown@s<br><br>{{perk_displayname_FlowofBattle}} allows you to temporarily exceed the attack speed limit.', 'icon': 'ASSETS/Perks/Styles/Precision/FlowofBattle/FlowofBattleTemp.dds'}, {'id': 8021, 'key': 'KSFleetFootwork', 'name': 'Fleet Footwork', 'shortDesc': 'Attacking and moving builds Energy stacks. At 100 stacks, your next attack heals you and grants increased <lol-uikit-tooltipped-keyword key=\"LinkTooltip_Description_MS\">MS</lol-uikit-tooltipped-keyword>.', 'longDesc': 'Attacking and moving builds Energy stacks. At 100 stacks, your next attack is Energized.<br><br>Energized attacks heal you for @HealBase@ - @HealMax@ (+@HealBonusADRatio.-1@ Bonus AD, +@HealAPRatio.-1@ AP) and grant +@MSBuff*100@% Movement Speed for @MSDuration.0@s.<br><rules>Healing is @MinionHealMod*100@% as effective when used on a minion.</rules>', 'icon': 'ASSETS/Perks/Styles/Precision/KSFleetFootwork/KSFleetFootwork.dds'}]}, {'runes': [{'id': 9101, 'key': 'Overheal', 'name': 'Overheal', 'shortDesc': 'Excess healing on you becomes a shield.', 'longDesc': 'Excess healing on you becomes a shield, for up to @ShieldCapRatio.0*100@% of your total health + @MaxBaseShieldCap@.<br><br>Shield is built up from @ShieldGenerationRateSelf.0*100@% of excess self-healing, or @ShieldGenerationRateOtherMax.0*100@% of excess healing from allies.', 'icon': 'ASSETS/Perks/Styles/Precision/Overheal.dds'}, {'id': 9111, 'key': 'AdrenalineRush', 'name': 'Triumph', 'shortDesc': '<lol-uikit-tooltipped-keyword key=\"LinkTooltip_Description_Takedown\">Takedowns</lol-uikit-tooltipped-keyword> restore @MissingHealthRestored.0*100@% of your missing health and grant an additional @BonusGold@ gold. ', 'longDesc': \"Takedowns restore @MissingHealthRestored.0*100@% of your missing health and grant an additional @BonusGold@ gold. <br><br><hr></hr><br><i>'The most dangerous game brings the greatest glory.' <br>—Noxian Reckoner</i>\", 'icon': 'ASSETS/Perks/Styles/Precision/DangerousGame.dds'}, {'id': 8009, 'key': 'CastOnKill', 'name': 'Presence of Mind', 'shortDesc': 'For @BuffDuration@s after gaining a level or takedown any mana you spend is fully restored.', 'longDesc': 'For @BuffDuration@s after gaining a level or takedown any mana you spend is fully restored.', 'icon': 'ASSETS/Perks/Styles/Precision/LastResort/LastResortIcon.dds'}]}, {'runes': [{'id': 9104, 'key': 'LegendDauntless', 'name': 'Legend: Alacrity', 'shortDesc': '<lol-uikit-tooltipped-keyword key=\"LinkTooltip_Description_Takedown\">Takedowns</lol-uikit-tooltipped-keyword> on enemies grant permanent <b>Attack Speed</b>. ', 'longDesc': 'Gain @AttackSpeedBase*100@% attack speed plus an additional @AttackSpeedPerStack*100@% for every <i>Legend</i> stack (max @MaxLegendStacks@ stacks).<br><br>Earn progress toward <i>Legend</i> stacks for every champion takedown, epic monster takedown, large monster kill, and minion kill.', 'icon': 'ASSETS/Perks/Styles/Precision/Legend_Heroism.dds'}, {'id': 9105, 'key': 'LegendTenacity', 'name': 'Legend: Tenacity', 'shortDesc': '<lol-uikit-tooltipped-keyword key=\"LinkTooltip_Description_Takedown\">Takedowns</lol-uikit-tooltipped-keyword> on enemies grant permanent <b>Tenacity</b>. ', 'longDesc': 'Gain @TenacityBase*100@% tenacity plus an additional @TenacityPerStack*100@% for every <i>Legend</i> stack (max @MaxLegendStacks@ stacks).<br><br>Earn progress toward <i>Legend</i> stacks for every champion takedown, epic monster takedown, large monster kill, and minion kill.', 'icon': 'ASSETS/Perks/Styles/Precision/Legend_Tenacity.dds'}, {'id': 9103, 'key': 'LegendInfamy', 'name': 'Legend: Bloodline', 'shortDesc': '<lol-uikit-tooltipped-keyword key=\"LinkTooltip_Description_Takedown\">Takedowns</lol-uikit-tooltipped-keyword> on enemies grant permanent<b> Lifesteal</b>. ', 'longDesc': 'Gain @LifeStealPerStack*100@% life steal for every <i>Legend</i> stack (max @MaxLegendStacks@ stacks).<br><br>Earn progress toward <i>Legend</i> stacks for every champion takedown, epic monster takedown, large monster kill, and minion kill.', 'icon': 'ASSETS/Perks/Styles/Precision/Legend_Infamy.dds'}]}, {'runes': [{'id': 8014, 'key': 'CoupDeGrace', 'name': 'Coup de Grace', 'shortDesc': 'Deal more damage to low health enemy champions.', 'longDesc': 'Deal @BonusPercentDamage.0 *100@% more damage to champions who have less than @EnemyHealthPercentageThreshold*100@% health.<br><br>Additionally, takedowns on champions grant {{ perk_subtext_AdaptiveForce }} for @Duration@s.', 'icon': 'ASSETS/Perks/Styles/Precision/CoupDeGrace/CoupDeGrace.dds'}, {'id': 8017, 'key': 'GiantSlayer', 'name': 'Cut Down', 'shortDesc': 'Deal more damage to champions with more max health than you.', 'longDesc': 'Deal @MinBonusDamagePercent.0*100@% more damage to champions with @MinHealthDifference@ more max health than you, increasing to @MaxBonusDamagePercent.0*100@% at @MaxHealthDifference@ more max health.', 'icon': 'ASSETS/Perks/Styles/Precision/GiantSlayer/GiantSlayer.dds'}, {'id': 8299, 'key': 'ToTheDeath', 'name': 'Last Stand', 'shortDesc': 'Deal more damage to champions while you are low on health.', 'longDesc': 'Deal @MinBonusDamagePercent.0*100@% - @MaxBonusDamagePercent.0*100@% increased damage to champions while you are below @HealthThresholdStart.0*100@% health. Max damage gained at @HealthThresholdEnd.0*100@% health.', 'icon': 'ASSETS/Perks/Styles/Sorcery/ToTheDeath/ToTheDeath.dds'}]}]\n",
      "[{'runes': [{'id': 8437, 'key': 'KSRuinedKing', 'name': 'Grasp of the Undying', 'shortDesc': 'Every @TriggerTime@s your next attack on a champion deals bonus magic damage, heals you, and permanently increases your health.', 'longDesc': 'Every @TriggerTime@s in combat, your next basic attack on a champion will: <li>Deal bonus magic damage equal to @PercentHealthDamage.0@% of your max health</li><li>Heal you for @PercentHealthHeal*100@% of your max health</li><li>Permanently increase your health by @MaxHealthPerProc@</li><br><rules><i>Ranged Champions:</i> Damage and healing are halved and gain @RangedHealthPerProc@ permanent health instead.</rules>', 'icon': 'ASSETS/Perks/Styles/Resolve/KSRuinedKing/KSRuinedKing.dds'}, {'id': 8439, 'key': 'Vengeance', 'name': 'Aftershock', 'shortDesc': 'After <lol-uikit-tooltipped-keyword key=\"LinkTooltip_Description_Immobilize\">immobilizing</lol-uikit-tooltipped-keyword> an enemy champion gain defenses and later deal a burst of <lol-uikit-tooltipped-keyword key=\"LinkTooltip_Description_AdaptiveDmg\">adaptive damage</lol-uikit-tooltipped-keyword> around you.', 'longDesc': 'After immobilizing an enemy champion, increase your Armor and Magic Resist by @FlatResists@ + @ResistInc.0*100@% for @DelayBeforeBurst.1@s. Then explode, dealing magic damage to nearby enemies.<br><br>Damage: @StartingBaseDamage@ - @MaxBaseDamage@ (+@HealthRatio.1@% of your maximum health)<br>Cooldown: @Cooldown@s', 'icon': 'ASSETS/Perks/Styles/Resolve/VeteranVengeance/VeteranVengeance.dds'}, {'id': 8465, 'key': 'KSBuddyShield', 'name': 'Guardian', 'shortDesc': \"Guard allies you cast spells on and those that are very nearby. If you or a guarded ally would take damage, you're both hasted and granted a shield.\", 'longDesc': '{{ perk_shared_desc_KSBuddyShield }}<br><br>Cooldown: @Cooldown@s<br>Shield: @ShieldBase@ - @ShieldMax@ +(<scaleAP>@APRatio.-1@ AP</scaleAP>) + (<scalehealth>+@HPRatio.0*100@% bonus health</scalehealth>).<br>Haste: +@Haste*100@% Movement Speed.', 'icon': 'ASSETS/Perks/Styles/Resolve/KSBuddyShield/KSBuddyShield.dds'}]}, {'runes': [{'id': 8242, 'key': 'Recharge', 'name': 'Unflinching', 'shortDesc': 'After casting a Summoner Spell, gain Tenacity and Slow Resistance for a short duration. Additionally, gain Tenacity and Slow Resistance for each Summoner Spell on cooldown. ', 'longDesc': 'After casting a Summoner Spell, gain @BonusTenacity*100@% Tenacity and Slow Resistance for @BuffDuration@s. Additionally, gain @PersistTenacity*100@% Tenacity and Slow Resistance for each Summoner Spell on cooldown. ', 'icon': 'ASSETS/Perks/Styles/Sorcery/Recharge/Recharge.dds'}, {'id': 8446, 'key': 'Siege', 'name': 'Demolish', 'shortDesc': 'Charge up a powerful attack against a tower while near it.', 'longDesc': 'Charge up a powerful attack against a tower over @TotalSiegeTime@s, while within @DistanceToTower@ range of it. The charged attack deals @OutputDamagePerStack@ (+@MaxHealthPercentDamage.0 * 100@% of your max health) bonus physical damage.<br><br>Cooldown: @CooldownSeconds@s', 'icon': 'ASSETS/Perks/Styles/Resolve/BrickHitHouse/BrickHitHouse.dds'}, {'id': 8463, 'key': 'BloodFromStone', 'name': 'Font of Life', 'shortDesc': '<lol-uikit-tooltipped-keyword key=\"LinkTooltip_Description_ImpairMov\">Impairing</lol-uikit-tooltipped-keyword> the movement of an enemy champion marks them. Your allies heal when attacking champions you\\'ve marked. ', 'longDesc': 'Impairing the movement of an enemy champion marks them for @MarkDuration@s.<br><br>Ally champions who attack marked enemies heal for @FlatHealAmount@ + @HealthRatio.-1 * 100@% of your max health over @HealDuration@s. ', 'icon': 'ASSETS/Perks/Styles/Resolve/BloodFromStone/BloodFromStone.dds'}]}, {'runes': [{'id': 8430, 'key': 'NemMarks', 'name': 'Iron Skin', 'shortDesc': 'Gain +@ArmorBase@ Armor. <br>Heals, including consumables, increase your Armor by @TotalExtraArmor*100@% temporarily.', 'longDesc': 'Gain +@ArmorBase@ Armor. <br><br>Heal effects from consumables, heals for at least @FlatHealThreshold@ health and shields increase your Armor by @TotalExtraArmor*100@% for @EvolveArmorDuration@s.', 'icon': 'ASSETS/Perks/Styles/Resolve/NemMarks/NemMarks.dds'}, {'id': 8435, 'key': 'NemMage', 'name': 'Mirror Shell', 'shortDesc': 'Gain +@MRBase@ Magic Resist. <br>Heals, including consumables, increase your Magic Resist by @EvolveBonusMR*100@% temporarily.<br>', 'longDesc': 'Gain +@MRBase@ Magic Resist. <br><br>Heal effects from consumables, heals for at least @FlatHealThreshold@ health and shields increase your Magic Resist by @EvolveBonusMR*100@% for @EvolveShellDuration@s. ', 'icon': 'ASSETS/Perks/Styles/Resolve/NemMage/NemMage.dds'}, {'id': 8429, 'key': 'NemFighter', 'name': 'Conditioning', 'shortDesc': 'After @MinutesRequired@ min gain +@ArmorBase@ Armor and +@MRBase@ Magic Resist and increase your Armor and Magic Resist by @ExtraResist@%.', 'longDesc': '{{ perk_short_desc_NemFighter }}', 'icon': 'ASSETS/Perks/Styles/Resolve/NemFighter/NemFighter.dds'}]}, {'runes': [{'id': 8451, 'key': 'HealthBandit', 'name': 'Overgrowth', 'shortDesc': 'Gain additional permanent max health when minions or monsters die near you.', 'longDesc': 'Permanently gain @MaxHealthRatioPerTier*100@% maximum health for every @UnitsPerTier@ monsters or enemy minions that die near you.', 'icon': 'ASSETS/Perks/Styles/Resolve/HealthBandit/HealthBandit.dds'}, {'id': 8453, 'key': 'AmpShields', 'name': 'Revitalize', 'shortDesc': 'Heals and shields you cast are @StandardAmp.0@% stronger and increased by an additional @ExtraAmp.0@% on low health targets.', 'longDesc': 'Heals and shields you cast are @StandardAmp.0@% stronger and increased by an additional @ExtraAmp.0@% on targets below @HealthCutoff.0@% health.', 'icon': 'ASSETS/Perks/Styles/Resolve/AmpShields/AmpShields.dds'}, {'id': 8444, 'key': 'SecondWind', 'name': 'Second Wind', 'shortDesc': 'After taking damage from an enemy champion heal back some missing health over time. ', 'longDesc': 'After taking damage from an enemy champion, heal for @RegenPercentMax.0*100@% of your missing health +@RegenFlat.0@ over @RegenSeconds@s.', 'icon': 'ASSETS/Perks/Styles/Resolve/SecondWind/SecondWind.dds'}]}]\n",
      "[{'runes': [{'id': 8214, 'key': 'KSPerxie', 'name': 'Summon Aery', 'shortDesc': 'Your attacks and abilities send Aery to a target, damaging enemies or shielding allies.', 'longDesc': 'Your attacks and abilities send Aery to a target, damaging enemy champions or shielding allies.<br><br>Damage: @DamageBase@ - @DamageMax@ based on level (+<scaleAP>@DamageAPRatio.-1@ AP</scaleAP> and +<scaleAD>@DamageADRatio.-1@ bonus AD</scaleAD>)<br>Shield: @ShieldBase@ - @ShieldMax@ based on level (+<scaleAP>@ShieldRatio.-1@ AP</scaleAP> and +<scaleAD>@ShieldRatioAD.-1@ bonus AD</scaleAD>) <br><br>Aery cannot be sent out again until she returns to you.', 'icon': 'ASSETS/Perks/Styles/Sorcery/KSPerxie/KSPerxie.dds'}, {'id': 8229, 'key': 'KSDoomsayer', 'name': 'Arcane Comet', 'shortDesc': 'Damaging a champion with an ability hurls a damaging comet at their location.', 'longDesc': \"Damaging a champion with an ability hurls a comet at their location, or, if Arcane Comet is on cooldown, reduces its remaining cooldown.<br><br><lol-uikit-tooltipped-keyword key='LinkTooltip_Description_AdaptiveDmg'><font color='#48C4B7'>Adaptive Damage</font></lol-uikit-tooltipped-keyword>: @DamageBase@ - @DamageMax@ based on level (<scaleAP>+@APRatio.-1@ AP</scaleAP> and <scaleAD>+@ADRatio.-1@ bonus AD</scaleAD>)<br>Cooldown: @RechargeTime@ - @RechargeTimeMin@s<br><rules><br>Cooldown Reduction:<br>Single Target: @PercentRefund*100@%.<br>Area of Effect: @AoEPercentRefund*100@%.<br>Damage over Time: @DotPercentRefund*100@%.<br></rules>\", 'icon': 'ASSETS/Perks/Styles/Sorcery/KSDoomsayer/KSDoomsayer.dds'}, {'id': 8230, 'key': 'KSSpellslingersSurge', 'name': 'Phase Rush', 'shortDesc': 'Hitting an enemy champion with 3 <b>separate</b> attacks or abilities grants a burst of <lol-uikit-tooltipped-keyword key=\"LinkTooltip_Description_MS\">MS</lol-uikit-tooltipped-keyword>. ', 'longDesc': 'Hitting an enemy champion with 3 attacks or <b>separate</b> abilities within @Window@s grants @HasteBase*100@ - @HasteMax*100@% Movement Speed based on level.<br><br>Duration: @Duration@s<br>Cooldown: @Cooldown@s<br><i>Melee:</i> Additionally, gain @SlowResist*100@% Slow Resistance for the duration.', 'icon': 'ASSETS/Perks/Styles/Sorcery/KSSpellslingersSurge/KSSpellslingersSurge.dds'}]}, {'runes': [{'id': 8224, 'key': 'SpellparrySigil', 'name': 'Nullifying Orb', 'shortDesc': 'Gain a magic damage shield when taken to low health by magic damage.', 'longDesc': 'When you take magic damage that would reduce your Health below @PercHealthTrigger.0*100@%, gain a shield that absorbs @ShieldMin@ - @ShieldMax@ magic damage based on level (<scaleAP>+@APRatio.-1@ AP</scaleAP> and <scaleAD>+@ADRatio.-1@ bonus AD</scaleAD>) for @ShieldDuration@s.<br><br>Cooldown: @Cooldown@s', 'icon': 'ASSETS/Perks/Styles/Sorcery/PokeShield/Pokeshield.dds'}, {'id': 8226, 'key': 'ManaflowBand', 'name': 'Manaflow Band', 'shortDesc': 'Periodically your next ability used has its mana or energy cost refunded and restores some of your missing mana or energy.', 'longDesc': 'Every @Cooldown.0@s, your next ability used has its mana or energy cost refunded, and restores @MPToRestoreRatio.0*100@% of your missing mana or energy.', 'icon': 'ASSETS/Perks/Styles/Sorcery/Clearcasting/Clearcasting.dds'}, {'id': 8243, 'key': 'UltiMore', 'name': 'The Ultimate Hat', 'shortDesc': \"Your ultimate's cooldown is reduced. Each time you cast your ultimate, its cooldown is further reduced.\", 'longDesc': \"Your ultimate's cooldown is reduced by @StartingCDR@%. Each time you cast your ultimate, its cooldown is further reduced by @CDChunkPerStack@%. Stacks up to @MaxStacks@ times.\", 'icon': 'ASSETS/Perks/Styles/Sorcery/UltiMore/UltiMore.dds'}]}, {'runes': [{'id': 8210, 'key': 'Overcharger', 'name': 'Transcendence', 'shortDesc': 'Gain @MaxCDR*100@% <lol-uikit-tooltipped-keyword key=\"LinkTooltip_Description_CDR\">CDR</lol-uikit-tooltipped-keyword> when you reach level @LevelToTurnOn@. Excess CDR becomes AP or AD, <lol-uikit-tooltipped-keyword key=\"LinkTooltip_Description_Adaptive\">adaptive</lol-uikit-tooltipped-keyword>.', 'longDesc': 'Gain @MaxCDR*100@% CDR when you reach level @LevelToTurnOn@.<br><br>Each percent of CDR exceeding the CDR limit is converted to {{ perk_subtext_AdaptiveForce }}.', 'icon': 'ASSETS/Perks/Styles/Sorcery/Overcharger/Overcharger.dds'}, {'id': 8234, 'key': 'Surge', 'name': 'Celerity', 'shortDesc': 'Gain @PercentMS.0@% extra <lol-uikit-tooltipped-keyword key=\"LinkTooltip_Description_MS\">MS</lol-uikit-tooltipped-keyword>. Gain extra AP or AD, <lol-uikit-tooltipped-keyword key=\"LinkTooltip_Description_Adaptive\">adaptive</lol-uikit-tooltipped-keyword> based on your bonus MS. ', 'longDesc': \"Gain @PercentMS.0@% increased Movement Speed and add @PercentOfMOvespeedAsPrimaryStat.0@% of your Bonus Movement Speed to your AP or AD, <lol-uikit-tooltipped-keyword key='LinkTooltip_Description_Adaptive'><font color='#48C4B7'>adaptive</font></lol-uikit-tooltipped-keyword>. \", 'icon': 'ASSETS/Perks/Styles/Sorcery/SpeedDemon/SpeedDemonTemp.dds'}, {'id': 8233, 'key': 'FlawlessCombatant', 'name': 'Absolute Focus', 'shortDesc': 'While above @HealthPercent*100@% health, gain extra <lol-uikit-tooltipped-keyword key=\"LinkTooltip_Description_AdaptiveDmg\">adaptive damage</lol-uikit-tooltipped-keyword>.', 'longDesc': 'While above @HealthPercent*100@% health, gain {{ perk_subtext_AdaptiveForce_Max }} (based on level).', 'icon': 'ASSETS/Perks/Styles/Sorcery/FlawlessCombatant/FlawlessCombatant.dds'}]}, {'runes': [{'id': 8237, 'key': 'Spellburn', 'name': 'Scorch', 'shortDesc': 'Your first ability hit every @BurnlockoutDuration@s burns champions.', 'longDesc': 'Your next ability hit sets champions on fire dealing @damage@ - @damagemax@ bonus magic damage based on level after @dotduration@s.<br><br>Cooldown: @BurnlockoutDuration@s', 'icon': 'ASSETS/Perks/Styles/Sorcery/Spellburn/Spellburn.dds'}, {'id': 8232, 'key': 'Roamer', 'name': 'Waterwalking', 'shortDesc': 'Gain <lol-uikit-tooltipped-keyword key=\"LinkTooltip_Description_MS\">MS</lol-uikit-tooltipped-keyword> and AP or AD, <lol-uikit-tooltipped-keyword key=\"LinkTooltip_Description_Adaptive\">adaptive</lol-uikit-tooltipped-keyword> in the river.', 'longDesc': 'Gain @MovementSpeed@ Movement Speed and {{ perk_subtext_AdaptiveForce_Max }} (based on level) when in the river.<br><br><hr></hr><br><i>May you be as swift as the rushing river and agile as a startled Rift Scuttler.</i><br>', 'icon': 'ASSETS/Perks/Styles/Sorcery/Roamer/Roamer.dds'}, {'id': 8236, 'key': 'ElderGod', 'name': 'Gathering Storm', 'shortDesc': 'Gain increasing amounts of AD or AP, <lol-uikit-tooltipped-keyword key=\"LinkTooltip_Description_Adaptive\">adaptive</lol-uikit-tooltipped-keyword> over the course of the game.', 'longDesc': \"Every @UpdateAfterMinutes@ min gain AP or AD, <lol-uikit-tooltipped-keyword key='LinkTooltip_Description_Adaptive'><font color='#48C4B7'>adaptive</font></lol-uikit-tooltipped-keyword>.<br><br><i>10 min</i>: + 8 AP or 5 AD <br><i>20 min</i>: + 24 AP or 14 AD<br><i>30 min</i>: + 48 AP or 29 AD<br><i>40 min</i>: + 80 AP or 48 AD<br><i>50 min</i>: + 120 AP or 72 AD<br><i>60 min</i>: + 168 AP or 101 AD<br>etc...\", 'icon': 'ASSETS/Perks/Styles/Sorcery/ElderGod/ElderGod.dds'}]}]\n"
     ]
    }
   ],
   "source": [
    "DDRegion = lol_watcher.data_dragon.versions_for_region('na1')['n']\n",
    "DDrune = DDRegion['rune']\n",
    "runes = lol_watcher.data_dragon.runes_reforged(DDrune)\n",
    "\n",
    "runes[0]['slots'][0]['runes'][1]['name']\n",
    "\n",
    "for n in range(len(runes)):\n",
    "    print(runes[n]['slots'])"
   ]
  },
  {
   "cell_type": "code",
   "execution_count": null,
   "id": "77627573-ecb8-47a7-8386-973661814f07",
   "metadata": {},
   "outputs": [],
   "source": [
    "def commit_rune_lov(conn):\n",
    "    with conn.cursor() as curs:\n",
    "        DDRegion = lol_watcher.data_dragon.versions_for_region('na1')['n']\n",
    "        DDrune = DDRegion['rune']\n",
    "        runes = lol_watcher.data_dragon.runes_reforged(DDrune)\n",
    "        for n in range(len(runes)):\n",
    "            \n",
    "            vals = runes[n]\n",
    "            tree = vals['key']\n",
    "            new_vals = {}\n",
    "            for n in range(len(vals)):\n",
    "                new_vals.update({'rune_id' : vals['key'],\n",
    "                                'rune_name' : vals['name'],\n",
    "                                'rune_tree' : vals['tree']\n",
    "                                })\n",
    "\n",
    "                \n",
    "                curs.execute('''INSERT INTO \"LOLLOV\".lol_runes \n",
    "                        VALUES (%(rune_id)s, %(rune_name)s)\n",
    "                        ON CONFLICT (rune_id) DO NOTHING\n",
    "                            ;''', new_vals)\n",
    "                            \n",
    "                conn.commit()\n",
    "        print(curs.rowcount, \" LOVs added\")"
   ]
  },
  {
   "cell_type": "code",
   "execution_count": null,
   "id": "63e1b2a0-9d01-42e3-8e36-806d8481fa4e",
   "metadata": {},
   "outputs": [],
   "source": []
  },
  {
   "cell_type": "code",
   "execution_count": null,
   "id": "cb0b64f9-2525-427b-90eb-0a2754c1d550",
   "metadata": {},
   "outputs": [],
   "source": [
    "queue_dict = {}\n",
    "with conn.cursor() as curs:\n",
    "    for n in data:\n",
    "        curs.execute('''INSERT INTO \"LOLLOV\".lol_queues\n",
    "                (queue_id, map, description)\n",
    "                VALUES\n",
    "                (%(queueId)s, %(map)s, %(description)s);''', n)\n",
    "        conn.commit()"
   ]
  },
  {
   "cell_type": "code",
   "execution_count": null,
   "id": "c1e32ae5-b768-4926-bfa3-7ac1bc538e54",
   "metadata": {},
   "outputs": [],
   "source": []
  }
 ],
 "metadata": {
  "kernelspec": {
   "display_name": "Python 3 (ipykernel)",
   "language": "python",
   "name": "python3"
  },
  "language_info": {
   "codemirror_mode": {
    "name": "ipython",
    "version": 3
   },
   "file_extension": ".py",
   "mimetype": "text/x-python",
   "name": "python",
   "nbconvert_exporter": "python",
   "pygments_lexer": "ipython3",
   "version": "3.9.12"
  }
 },
 "nbformat": 4,
 "nbformat_minor": 5
}
